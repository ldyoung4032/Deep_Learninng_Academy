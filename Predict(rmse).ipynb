{
 "cells": [
  {
   "cell_type": "code",
   "execution_count": 4,
   "metadata": {},
   "outputs": [
    {
     "name": "stdout",
     "output_type": "stream",
     "text": [
      "2.3 79.0\n"
     ]
    },
    {
     "data": {
      "image/png": "[encoded data removed]",
      "text/plain": [
       "<Figure size 432x288 with 1 Axes>"
      ]
     },
     "metadata": {
      "needs_background": "light"
     },
     "output_type": "display_data"
    }
   ],
   "source": [
    "import numpy as np\n",
    "import pandas as pd\n",
    "import matplotlib.pyplot as plt\n",
    "\n",
    "x = [2,4,6,8]\n",
    "y = [81,93,91,97]\n",
    "\n",
    "new_list = [(np.mean(x)-i)**2 for i in x] ## 분모\n",
    "divisor = sum(new_list)\n",
    "\n",
    "mx = np.mean(x)\n",
    "my = np.mean(y)\n",
    "\n",
    "def top(x,mx,y,my) :\n",
    "    d = 0\n",
    "    for i in range(len(x)) :\n",
    "        d += (x[i]-mx)*(y[i]-my)\n",
    "\n",
    "    return d\n",
    "\n",
    "dividend = sum([(x[i]-mx)*(y[i]-my) for i in range(0,4)]) ## 분자\n",
    "\n",
    "top = top(x,mx,y,my)\n",
    "\n",
    "a = dividend/divisor\n",
    "b = my - (mx*a)\n",
    "print(a,b)\n",
    "\n",
    "plt.plot(x,y, 'b')\n",
    "\n",
    "new = []\n",
    "for i in x :\n",
    "    new.append(round((a*i+b),3))\n",
    "\n",
    "plt.plot(x,new, 'r')\n",
    "plt.legend(['real data', 'predict data'], loc = 'upper left')\n",
    "plt.show()"
   ]
  },
  {
   "cell_type": "markdown",
   "metadata": {},
   "source": [
    "예제1"
   ]
  },
  {
   "cell_type": "code",
   "execution_count": 5,
   "metadata": {
    "scrolled": true
   },
   "outputs": [
    {
     "name": "stdout",
     "output_type": "stream",
     "text": [
      "a:0.176, b:-0.034\n",
      "\n",
      "15주 : 2.6\n",
      "22주 : 3.829\n",
      "77주 : 13.487\n",
      "\n",
      "-0.056\n"
     ]
    },
    {
     "data": {
      "image/png": "[encoded data removed]",
      "text/plain": [
       "<Figure size 432x288 with 1 Axes>"
      ]
     },
     "metadata": {
      "needs_background": "light"
     },
     "output_type": "display_data"
    }
   ],
   "source": [
    "x = [1,2,3,4,5,6,7,8]\n",
    "y = [0.2,0.3,0.5,0.6,0.9,0.95,1.1,1.5]\n",
    "\n",
    "new_list = [(np.mean(x)-i)**2 for i in x] ## 분모\n",
    "\n",
    "divisor = sum(new_list)\n",
    "\n",
    "mx = np.mean(x)\n",
    "my = np.mean(y)\n",
    "\n",
    "def top(x,mx,y,my) :\n",
    "    d = 0\n",
    "    for i in range(len(x)) :\n",
    "        d += (x[i]-mx)*(y[i]-my)\n",
    "\n",
    "    return d\n",
    "\n",
    "dividend = sum([(x[i]-mx)*(y[i]-my) for i in range(len(x))]) ## 분자\n",
    "\n",
    "top = top(x,mx,y,my)\n",
    "\n",
    "a = dividend/divisor\n",
    "b = my - (mx*a)\n",
    "\n",
    "print(\"a:{}, b:{}\".format(round(a,3),round(b,3)))\n",
    "\n",
    "## y = 0.176x - 0.034\n",
    "print()\n",
    "\n",
    "## 15,22,77,200주 예상\n",
    "predict = [15,22,77,200]\n",
    "for i in predict :\n",
    "    if a*i + b > 30 :\n",
    "        pass\n",
    "    else :\n",
    "        print(\"{}주 : {}\".format(i,round((a*i + b),3)))\n",
    "  \n",
    "print()\n",
    "## 5주차와의 차이\n",
    "print(round((a*5 + b)-y[4],3))\n",
    "\n",
    "plt.plot(x,y, 'b')\n",
    "\n",
    "new = []\n",
    "for i in x :\n",
    "    new.append(round((a*i+b),3))\n",
    "\n",
    "plt.plot(x,new, 'r')\n",
    "plt.legend(['real data', 'predict data'], loc = 'upper left')\n",
    "plt.show()"
   ]
  },
  {
   "cell_type": "markdown",
   "metadata": {},
   "source": [
    "## 평균제곱근오차(RMSE)"
   ]
  },
  {
   "cell_type": "code",
   "execution_count": 8,
   "metadata": {},
   "outputs": [
    {
     "name": "stdout",
     "output_type": "stream",
     "text": [
      "3.317\n"
     ]
    }
   ],
   "source": [
    "from sklearn.metrics import mean_squared_error\n",
    "from math import sqrt\n",
    "\n",
    "x = [2,4,6,8]\n",
    "y = [81,93,91,97]\n",
    "\n",
    "ab = [3,76]\n",
    "a = 3\n",
    "b = 76\n",
    "\n",
    "new = []\n",
    "for i in x :\n",
    "    new.append(round((a*i+b),3))\n",
    "\n",
    "rmse = sqrt(mean_squared_error(y, new))\n",
    "\n",
    "print(round(rmse,3))"
   ]
  },
  {
   "cell_type": "code",
   "execution_count": 9,
   "metadata": {
    "scrolled": true
   },
   "outputs": [
    {
     "name": "stdout",
     "output_type": "stream",
     "text": [
      "공부한 시간 = 2, 실제 점수 = 81, 예측 점수 = 82\n",
      "공부한 시간 = 4, 실제 점수 = 93, 예측 점수 = 88\n",
      "공부한 시간 = 6, 실제 점수 = 91, 예측 점수 = 94\n",
      "공부한 시간 = 8, 실제 점수 = 97, 예측 점수 = 100\n"
     ]
    }
   ],
   "source": [
    "x = [2,4,6,8]\n",
    "y = [81,93,91,97]\n",
    "ab = [3,76]\n",
    "\n",
    "## rmse 함수\n",
    "def predict(x) :\n",
    "    return ab[0]*x + ab[1]\n",
    "\n",
    "## rmse함수를 각 y값에 대입하여 최종 값을 구하는 함수\n",
    "def rmse(p,a) :\n",
    "    return np.sqrt(((p-a)**2).mean())\n",
    "\n",
    "## 예측값 들어갈 리스트\n",
    "predict_result = []\n",
    "def rmse_val(predict_result, y) :\n",
    "    return rmse(np.array(predict_result),np.array(y))\n",
    "\n",
    "## 모든 x값을 한번씩 대입하여\n",
    "for i in range(len(x)) :\n",
    "    ## predict_result 리스트를 완성한다\n",
    "    predict_result.append(predict(x[i]))\n",
    "    print(\"공부한 시간 = %.f, 실제 점수 = %.f, 예측 점수 = %.f\"%(x[i], y[i],predict(x[i])))"
   ]
  },
  {
   "cell_type": "code",
   "execution_count": 12,
   "metadata": {},
   "outputs": [],
   "source": [
    "## 3/76 -> 2.3/79 ## for문으로 해보기"
   ]
  },
  {
   "cell_type": "code",
   "execution_count": 11,
   "metadata": {},
   "outputs": [
    {
     "name": "stdout",
     "output_type": "stream",
     "text": [
      "(1, 3)\n",
      "(3, 1)\n",
      "(1, 1)\n",
      "Tensor(\"MatMul_1:0\", shape=(1, 1), dtype=float32)\n",
      "[[12.]]\n"
     ]
    }
   ],
   "source": [
    "import tensorflow as tf\n",
    "\n",
    "x = tf.constant([[1.0,2.0,3.0]])\n",
    "w = tf.constant([[2.0], [2.0], [2.0]])\n",
    "y = tf.matmul(x,w)\n",
    "\n",
    "print(x.get_shape())\n",
    "print(w.get_shape())\n",
    "print(y.get_shape())\n",
    "\n",
    "print(y) ## Tensor?\n",
    "sess = tf.Session()\n",
    "init = tf.global_variables_initializer()\n",
    "sess.run(init)\n",
    "result = sess.run(y)\n",
    "print(result)"
   ]
  }
 ],
 "metadata": {
  "kernelspec": {
   "display_name": "Python 3",
   "language": "python",
   "name": "python3"
  },
  "language_info": {
   "codemirror_mode": {
    "name": "ipython",
    "version": 3
   },
   "file_extension": ".py",
   "mimetype": "text/x-python",
   "name": "python",
   "nbconvert_exporter": "python",
   "pygments_lexer": "ipython3",
   "version": "3.7.7"
  }
 },
 "nbformat": 4,
 "nbformat_minor": 4
}
