{
 "cells": [
  {
   "cell_type": "code",
   "execution_count": null,
   "metadata": {},
   "outputs": [],
   "source": [
    "## 5x5를 3x3으로 총 아홉번 돈다\n",
    "## 각 3x3의 1의 합들을 더해서 새로운 3x3을 만든다"
   ]
  },
  {
   "cell_type": "code",
   "execution_count": 10,
   "metadata": {},
   "outputs": [],
   "source": [
    "import tensorflow as tf\n",
    "import matplotlib.pyplot as plt\n",
    "import numpy\n",
    "import os\n",
    "\n",
    "from keras.datasets import mnist\n",
    "from keras.utils import np_utils\n",
    "from keras.models import Sequential\n",
    "from keras.layers import Dense, Dropout, Flatten, Conv2D, MaxPooling2D\n",
    "from keras.callbacks import ModelCheckpoint,EarlyStopping\n",
    "\n",
    "# seed 값 설정\n",
    "seed = 0\n",
    "numpy.random.seed(seed)\n",
    "tf.compat.v1.set_random_seed(3)\n",
    "\n",
    "# 데이터 불러오기\n",
    "\n",
    "(X_train, Y_train), (X_test, Y_test) = mnist.load_data()\n",
    "X_train = X_train.reshape(X_train.shape[0], 28, 28, 1).astype('float32') / 255\n",
    "X_test = X_test.reshape(X_test.shape[0], 28, 28, 1).astype('float32') / 255\n",
    "Y_train = np_utils.to_categorical(Y_train)\n",
    "Y_test = np_utils.to_categorical(Y_test)"
   ]
  },
  {
   "cell_type": "code",
   "execution_count": 11,
   "metadata": {},
   "outputs": [],
   "source": [
    "# 컨볼루션 신경망의 설정\n",
    "model = Sequential()\n",
    "model.add(Conv2D(32, kernel_size=(3, 3), input_shape=(28, 28, 1), activation='relu'))\n",
    "model.add(Conv2D(64, (3, 3), activation='relu'))\n",
    "model.add(MaxPooling2D(pool_size=2))\n",
    "model.add(Dropout(0.25))\n",
    "model.add(Flatten())\n",
    "model.add(Dense(128,  activation='relu'))\n",
    "model.add(Dropout(0.5))\n",
    "model.add(Dense(10, activation='softmax'))\n",
    "\n",
    "model.compile(loss='categorical_crossentropy',\n",
    "              optimizer='adam',\n",
    "              metrics=['accuracy'])\n",
    "\n",
    "# 모델 최적화 설정\n",
    "MODEL_DIR = './model3/'\n",
    "if not os.path.exists(MODEL_DIR):\n",
    "    os.mkdir(MODEL_DIR)\n",
    "\n",
    "modelpath=\"./model3/{epoch:02d}-{val_loss:.4f}.hdf5\"\n",
    "checkpointer = ModelCheckpoint(filepath=modelpath, monitor='val_loss', verbose=1, save_best_only=True)\n",
    "early_stopping_callback = EarlyStopping(monitor='val_loss', patience=10)"
   ]
  },
  {
   "cell_type": "code",
   "execution_count": 16,
   "metadata": {},
   "outputs": [
    {
     "name": "stdout",
     "output_type": "stream",
     "text": [
      "\n",
      "Epoch 00001: val_loss improved from inf to 0.03972, saving model to ./model3\\01-0.0397.hdf5\n",
      "\n",
      "Epoch 00002: val_loss improved from 0.03972 to 0.03565, saving model to ./model3\\02-0.0357.hdf5\n",
      "\n",
      "Epoch 00003: val_loss improved from 0.03565 to 0.03195, saving model to ./model3\\03-0.0320.hdf5\n",
      "\n",
      "Epoch 00004: val_loss improved from 0.03195 to 0.03134, saving model to ./model3\\04-0.0313.hdf5\n",
      "\n",
      "Epoch 00005: val_loss did not improve from 0.03134\n",
      "\n",
      "Epoch 00006: val_loss improved from 0.03134 to 0.03011, saving model to ./model3\\06-0.0301.hdf5\n",
      "\n",
      "Epoch 00007: val_loss improved from 0.03011 to 0.02686, saving model to ./model3\\07-0.0269.hdf5\n",
      "\n",
      "Epoch 00008: val_loss improved from 0.02686 to 0.02682, saving model to ./model3\\08-0.0268.hdf5\n",
      "\n",
      "Epoch 00009: val_loss did not improve from 0.02682\n",
      "\n",
      "Epoch 00010: val_loss improved from 0.02682 to 0.02660, saving model to ./model3\\10-0.0266.hdf5\n",
      "\n",
      "Epoch 00011: val_loss did not improve from 0.02660\n",
      "\n",
      "Epoch 00012: val_loss did not improve from 0.02660\n",
      "\n",
      "Epoch 00013: val_loss improved from 0.02660 to 0.02584, saving model to ./model3\\13-0.0258.hdf5\n",
      "\n",
      "Epoch 00014: val_loss did not improve from 0.02584\n",
      "\n",
      "Epoch 00015: val_loss improved from 0.02584 to 0.02510, saving model to ./model3\\15-0.0251.hdf5\n",
      "\n",
      "Epoch 00016: val_loss did not improve from 0.02510\n",
      "\n",
      "Epoch 00017: val_loss did not improve from 0.02510\n",
      "\n",
      "Epoch 00018: val_loss did not improve from 0.02510\n",
      "\n",
      "Epoch 00019: val_loss did not improve from 0.02510\n",
      "\n",
      "Epoch 00020: val_loss did not improve from 0.02510\n",
      "\n",
      "Epoch 00021: val_loss did not improve from 0.02510\n",
      "\n",
      "Epoch 00022: val_loss did not improve from 0.02510\n",
      "\n",
      "Epoch 00023: val_loss did not improve from 0.02510\n",
      "\n",
      "Epoch 00024: val_loss did not improve from 0.02510\n",
      "\n",
      "Epoch 00025: val_loss did not improve from 0.02510\n",
      "313/313 [==============================] - 2s 5ms/step - loss: 0.0319 - accuracy: 0.9928\n",
      "\n",
      " Test Accuracy: 0.9928\n"
     ]
    }
   ],
   "source": [
    "# 모델의 실행\n",
    "history = model.fit(X_train, Y_train, validation_data=(X_test, Y_test), epochs=30, batch_size=200, verbose=0, callbacks=[early_stopping_callback,checkpointer])\n",
    "\n",
    "# 테스트 정확도 출력\n",
    "print(\"\\n Test Accuracy: %.4f\" % (model.evaluate(X_test, Y_test)[1]))"
   ]
  },
  {
   "cell_type": "code",
   "execution_count": 17,
   "metadata": {},
   "outputs": [
    {
     "data": {
      "image/png": "[encoded data removed]",
      "text/plain": [
       "<Figure size 432x288 with 1 Axes>"
      ]
     },
     "metadata": {
      "needs_background": "light"
     },
     "output_type": "display_data"
    }
   ],
   "source": [
    "# 테스트 셋의 오차\n",
    "y_vloss = history.history['val_loss']\n",
    "\n",
    "# 학습셋의 오차\n",
    "y_loss = history.history['loss']\n",
    "\n",
    "# 그래프로 표현\n",
    "x_len = numpy.arange(len(y_loss))\n",
    "plt.plot(x_len, y_vloss, marker='.', c=\"red\", label='Testset_loss')\n",
    "plt.plot(x_len, y_loss, marker='.', c=\"blue\", label='Trainset_loss')\n",
    "\n",
    "# 그래프에 그리드를 주고 레이블을 표시\n",
    "plt.legend(loc='upper right')\n",
    "plt.grid()\n",
    "plt.xlabel('epoch')\n",
    "plt.ylabel('loss')\n",
    "plt.show()"
   ]
  }
 ],
 "metadata": {
  "kernelspec": {
   "display_name": "Python 3",
   "language": "python",
   "name": "python3"
  },
  "language_info": {
   "codemirror_mode": {
    "name": "ipython",
    "version": 3
   },
   "file_extension": ".py",
   "mimetype": "text/x-python",
   "name": "python",
   "nbconvert_exporter": "python",
   "pygments_lexer": "ipython3",
   "version": "3.7.7"
  }
 },
 "nbformat": 4,
 "nbformat_minor": 4
}
