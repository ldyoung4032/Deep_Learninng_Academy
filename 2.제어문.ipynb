{
 "cells": [
  {
   "cell_type": "code",
   "execution_count": 1,
   "metadata": {},
   "outputs": [],
   "source": [
    "x = 10"
   ]
  },
  {
   "cell_type": "code",
   "execution_count": 2,
   "metadata": {},
   "outputs": [
    {
     "name": "stdout",
     "output_type": "stream",
     "text": [
      "X는 10입니다.\n"
     ]
    }
   ],
   "source": [
    "if  x == 10 :\n",
    "    print(\"X는 10입니다.\")"
   ]
  },
  {
   "cell_type": "code",
   "execution_count": 3,
   "metadata": {},
   "outputs": [
    {
     "name": "stdout",
     "output_type": "stream",
     "text": [
      "X는 10입니다.\n",
      "end code block\n"
     ]
    }
   ],
   "source": [
    "if  x == 10 :\n",
    "    print(\"X는 10입니다.\")\n",
    "    print(\"end code block\") ## 4 block"
   ]
  },
  {
   "cell_type": "code",
   "execution_count": 4,
   "metadata": {},
   "outputs": [],
   "source": [
    "if x != 10 :\n",
    "    print(\"X는 10이 아닙니다.\")"
   ]
  },
  {
   "cell_type": "code",
   "execution_count": 5,
   "metadata": {},
   "outputs": [],
   "source": [
    "if x == 10 :\n",
    "    pass"
   ]
  },
  {
   "cell_type": "code",
   "execution_count": 6,
   "metadata": {},
   "outputs": [
    {
     "name": "stdout",
     "output_type": "stream",
     "text": [
      "x는 3보다 크고 20보다 작습니다.\n"
     ]
    }
   ],
   "source": [
    "if x > 3 and x < 20 :\n",
    "    print(\"x는 3보다 크고 20보다 작습니다.\")"
   ]
  },
  {
   "cell_type": "code",
   "execution_count": 8,
   "metadata": {},
   "outputs": [
    {
     "name": "stdout",
     "output_type": "stream",
     "text": [
      "x는 3보다 큽니다.\n",
      "x는 10보다 크거나 같습니다.\n",
      "x는 20보다 작습니다.\n"
     ]
    }
   ],
   "source": [
    "if x>3:\n",
    "    print(\"x는 3보다 큽니다.\")\n",
    "    if x>=10 :\n",
    "        print(\"x는 10보다 크거나 같습니다.\")\n",
    "    if x<20 :\n",
    "        print(\"x는 20보다 작습니다.\")"
   ]
  },
  {
   "cell_type": "code",
   "execution_count": 10,
   "metadata": {},
   "outputs": [],
   "source": [
    "x = 3"
   ]
  },
  {
   "cell_type": "code",
   "execution_count": 11,
   "metadata": {},
   "outputs": [
    {
     "name": "stdout",
     "output_type": "stream",
     "text": [
      "x는 5보다 작거나 같습니다.\n"
     ]
    }
   ],
   "source": [
    "if x > 5 :\n",
    "    print(\"x는 5보다 큽니다.\")\n",
    "else:\n",
    "    print(\"x는 5보다 작거나 같습니다.\")"
   ]
  },
  {
   "cell_type": "code",
   "execution_count": 12,
   "metadata": {},
   "outputs": [
    {
     "name": "stdout",
     "output_type": "stream",
     "text": [
      "x는 2보다 큽니다.\n"
     ]
    }
   ],
   "source": [
    "if x > 5:\n",
    "    print('x는 5보다 큽니다.')\n",
    "elif x>2 :\n",
    "    print(\"x는 2보다 큽니다.\")\n",
    "elif x>0 :\n",
    "    print(\"x는 0보다 큽니다.\")\n",
    "else :\n",
    "    print(\"x는 음수입니다.\")"
   ]
  },
  {
   "cell_type": "code",
   "execution_count": 13,
   "metadata": {},
   "outputs": [],
   "source": [
    "x = 10"
   ]
  },
  {
   "cell_type": "code",
   "execution_count": 15,
   "metadata": {},
   "outputs": [
    {
     "name": "stdout",
     "output_type": "stream",
     "text": [
      "x는 0보다 큽니다.\n"
     ]
    }
   ],
   "source": [
    "if x > 0 :\n",
    "    print(\"x는 0보다 큽니다.\")\n",
    "elif x > 3 :\n",
    "    print(\"x는 3보다 큽니다.\")\n",
    "elif x > 8 :\n",
    "    print(\"x는 8보다 큽니다.\")\n",
    "else :\n",
    "    print(\"x는 음수입니다.\")"
   ]
  },
  {
   "cell_type": "markdown",
   "metadata": {},
   "source": [
    "## 연습 문제1."
   ]
  },
  {
   "cell_type": "markdown",
   "metadata": {},
   "source": [
    "사용자로 점수를 3개 입력받아\n",
    "모든 점수가 65점보다 클 경우 합격 아닐경우 불합격을 출력하세요\n",
    "단, 0~100 이 아닌 숫자가 입력된경우 잘못된 “잘못된 점수가 입력되었습니다\" 를 출력하세요\n"
   ]
  },
  {
   "cell_type": "code",
   "execution_count": 55,
   "metadata": {},
   "outputs": [
    {
     "name": "stdout",
     "output_type": "stream",
     "text": [
      "점수 : 1\n",
      "점수 : 1\n",
      "점수 : 1\n",
      "불합격\n"
     ]
    }
   ],
   "source": [
    "score = []\n",
    "for i in range(3) :\n",
    "    i = int(input(\"점수 : \"))\n",
    "    if i > 100 or i <  0 :\n",
    "        print(\"잘못된 점수가 입력되었습니다.\")\n",
    "    else :\n",
    "        score.append(i)\n",
    "        \n",
    "# print(score)\n",
    "\n",
    "def pass_nonpass (score) :\n",
    "    score_pnp = []\n",
    "    for i in score :\n",
    "        if i > 65 :\n",
    "            score_pnp.append(\"합격\")\n",
    "        else :\n",
    "            score_pnp.append(\"불합격\")\n",
    "    return score_pnp\n",
    "\n",
    "panonpa = pass_nonpass(score)\n",
    "\n",
    "if '불합격' in panonpa :\n",
    "    print(\"불합격\")\n",
    "else :\n",
    "    print(\"합격\")"
   ]
  },
  {
   "cell_type": "code",
   "execution_count": 42,
   "metadata": {},
   "outputs": [
    {
     "name": "stdout",
     "output_type": "stream",
     "text": [
      "점수입력1: 34\n",
      "점수입력2: 57\n",
      "점수입력3: 89\n",
      "불합격\n"
     ]
    }
   ],
   "source": [
    "## 선생님 답\n",
    "a = int(input(\"점수입력1: \"))\n",
    "b = int(input(\"점수입력2: \"))\n",
    "c = int(input(\"점수입력3: \"))\n",
    "\n",
    "a,b,c = map(int, [a,b,c])\n",
    "\n",
    "if (a not in range(101)) or (b not in range(101)) or (c not in range(101)) :\n",
    "    print(\"잘못된 점수가 입력되었습니다.\")\n",
    "elif  a > 65 and b >65 and c > 65 :\n",
    "        print(\"합격\")\n",
    "else :\n",
    "    print(\"불합격\")"
   ]
  },
  {
   "cell_type": "markdown",
   "metadata": {},
   "source": [
    "## 연습 문제2."
   ]
  },
  {
   "cell_type": "markdown",
   "metadata": {},
   "source": [
    "[홀수 짝수 판별기]\n",
    "사용자로부터 정수를 하나 입력받아  \n",
    "입력한 정수가 홀수인지 짝수인지 판별하여라.  \n",
    "(** 0은 짝수라 하자.)"
   ]
  },
  {
   "cell_type": "code",
   "execution_count": 52,
   "metadata": {},
   "outputs": [
    {
     "name": "stdout",
     "output_type": "stream",
     "text": [
      "정수를 입력해주세요. : 101\n",
      "입력하신 101는 홀수입니다.\n"
     ]
    }
   ],
   "source": [
    "num = int(input(\"정수를 입력해주세요. : \"))\n",
    "\n",
    "if num == 0 :\n",
    "    print(\"입력하신 0은 짝수입니다.\")\n",
    "\n",
    "elif num%2 == 0 :\n",
    "    print(\"입력하신 %d는 짝수입니다.\" % num)\n",
    "    \n",
    "else :\n",
    "    print(\"입력하신 %d는 홀수입니다.\" % num)\n"
   ]
  },
  {
   "cell_type": "markdown",
   "metadata": {},
   "source": [
    "# for문"
   ]
  },
  {
   "cell_type": "code",
   "execution_count": 56,
   "metadata": {},
   "outputs": [
    {
     "name": "stdout",
     "output_type": "stream",
     "text": [
      "0\n",
      "1\n",
      "2\n",
      "3\n",
      "4\n",
      "5\n",
      "6\n",
      "7\n",
      "8\n",
      "9\n"
     ]
    }
   ],
   "source": [
    "for i in range(10) :\n",
    "    print(i)"
   ]
  },
  {
   "cell_type": "code",
   "execution_count": 57,
   "metadata": {},
   "outputs": [
    {
     "name": "stdout",
     "output_type": "stream",
     "text": [
      "a\n",
      "b\n",
      "c\n"
     ]
    }
   ],
   "source": [
    "for i in ['a', 'b', 'c'] :\n",
    "    print(i)\n",
    "    "
   ]
  },
  {
   "cell_type": "code",
   "execution_count": 60,
   "metadata": {},
   "outputs": [
    {
     "name": "stdout",
     "output_type": "stream",
     "text": [
      "name\n",
      "city\n"
     ]
    }
   ],
   "source": [
    "profile = {\n",
    "    \"name\" : \"이다영\",\n",
    "    'city' : '서울'\n",
    "}\n",
    "\n",
    "for i in profile :\n",
    "    print(i)"
   ]
  },
  {
   "cell_type": "code",
   "execution_count": 63,
   "metadata": {},
   "outputs": [
    {
     "name": "stdout",
     "output_type": "stream",
     "text": [
      "O r a n g e "
     ]
    }
   ],
   "source": [
    "for i in \"Orange\" :\n",
    "    print(i, end = \" \")"
   ]
  },
  {
   "cell_type": "markdown",
   "metadata": {},
   "source": [
    "## 연습문제 1."
   ]
  },
  {
   "cell_type": "markdown",
   "metadata": {},
   "source": [
    "(1) 사용자로부터 정수를 입력받아, 해당 정수만큼 “안녕”을 출력하세요."
   ]
  },
  {
   "cell_type": "code",
   "execution_count": 68,
   "metadata": {
    "scrolled": true
   },
   "outputs": [
    {
     "name": "stdout",
     "output_type": "stream",
     "text": [
      "정수를 입력해주세요 : 10\n",
      "안녕\n",
      "안녕\n",
      "안녕\n",
      "안녕\n",
      "안녕\n",
      "안녕\n",
      "안녕\n",
      "안녕\n",
      "안녕\n",
      "안녕\n"
     ]
    }
   ],
   "source": [
    "num = int(input(\"정수를 입력해주세요 : \"))\n",
    "\n",
    "a = \"안녕\"\n",
    "\n",
    "for i in range(num) :\n",
    "    print(a)"
   ]
  },
  {
   "cell_type": "markdown",
   "metadata": {},
   "source": [
    "(2) 사용자로부터 정수를 입력받아, 입력된 정수 만큼 별 찍기"
   ]
  },
  {
   "cell_type": "code",
   "execution_count": 69,
   "metadata": {
    "scrolled": false
   },
   "outputs": [
    {
     "name": "stdout",
     "output_type": "stream",
     "text": [
      "정수를 입력해주세요 : 8\n",
      "*\n",
      "**\n",
      "***\n",
      "****\n",
      "*****\n",
      "******\n",
      "*******\n",
      "********\n"
     ]
    }
   ],
   "source": [
    "num = int(input(\"정수를 입력해주세요 : \"))\n",
    "\n",
    "for i in range(num) :\n",
    "    print(\"*\"*(i+1))"
   ]
  },
  {
   "cell_type": "markdown",
   "metadata": {},
   "source": [
    "(3) 사용자로부터 정수를 입력받아, 입력된 정수 만큼 별 찍기(역순)"
   ]
  },
  {
   "cell_type": "code",
   "execution_count": 3,
   "metadata": {
    "scrolled": false
   },
   "outputs": [
    {
     "name": "stdout",
     "output_type": "stream",
     "text": [
      "정수를 입력해주세요 : 10\n",
      "**********\n",
      "*********\n",
      "********\n",
      "*******\n",
      "******\n",
      "*****\n",
      "****\n",
      "***\n",
      "**\n",
      "*\n"
     ]
    }
   ],
   "source": [
    "num = int(input(\"정수를 입력해주세요 : \"))\n",
    "\n",
    "for i in range(num) :\n",
    "    print(\"*\"*(num-i))"
   ]
  },
  {
   "cell_type": "markdown",
   "metadata": {},
   "source": [
    "## for문 중첩"
   ]
  },
  {
   "cell_type": "code",
   "execution_count": 14,
   "metadata": {},
   "outputs": [
    {
     "name": "stdout",
     "output_type": "stream",
     "text": [
      "i :  0\n",
      "i*j : 0\n",
      "i*j : 0\n",
      "i*j : 0\n",
      "i*j : 0\n",
      "i*j : 0\n",
      "----------\n",
      "i :  1\n",
      "i*j : 0\n",
      "i*j : 1\n",
      "i*j : 2\n",
      "i*j : 3\n",
      "i*j : 4\n",
      "----------\n",
      "i :  2\n",
      "i*j : 0\n",
      "i*j : 2\n",
      "i*j : 4\n",
      "i*j : 6\n",
      "i*j : 8\n",
      "----------\n",
      "i :  3\n",
      "i*j : 0\n",
      "i*j : 3\n",
      "i*j : 6\n",
      "i*j : 9\n",
      "i*j : 12\n",
      "----------\n",
      "i :  4\n",
      "i*j : 0\n",
      "i*j : 4\n",
      "i*j : 8\n",
      "i*j : 12\n",
      "i*j : 16\n",
      "----------\n"
     ]
    }
   ],
   "source": [
    "for i in range(5) :\n",
    "    print('i : ', i)\n",
    "    for j in range(5) :\n",
    "#         print('j : ', j)\n",
    "        print(\"i*j :\", i*j)\n",
    "    print('-'*10)\n",
    "        "
   ]
  },
  {
   "cell_type": "code",
   "execution_count": 16,
   "metadata": {},
   "outputs": [
    {
     "name": "stdout",
     "output_type": "stream",
     "text": [
      "코드 실행\n",
      "코드 실행\n",
      "코드 실행\n",
      "코드 실행\n",
      "코드 실행\n",
      "코드 실행\n",
      "코드 실행\n",
      "코드 실행\n",
      "코드 실행\n",
      "코드 실행\n",
      "코드 실행\n",
      "코드 실행\n",
      "코드 실행\n",
      "코드 실행\n",
      "코드 실행\n",
      "코드 실행\n",
      "코드 실행\n",
      "코드 실행\n",
      "코드 실행\n",
      "코드 실행\n",
      "코드 실행\n",
      "코드 실행\n",
      "코드 실행\n",
      "코드 실행\n",
      "코드 실행\n"
     ]
    }
   ],
   "source": [
    "for i in range(5) :\n",
    "    for j in range(5) :\n",
    "        print(\"코드 실행\")"
   ]
  },
  {
   "cell_type": "code",
   "execution_count": 19,
   "metadata": {},
   "outputs": [
    {
     "name": "stdout",
     "output_type": "stream",
     "text": [
      "(0, 'a')\n",
      "(1, 'b')\n",
      "(2, 'c')\n",
      "(3, 'd')\n"
     ]
    }
   ],
   "source": [
    "l1 = ['a', 'b', 'c', 'd']\n",
    "for i in enumerate(l1) :\n",
    "    print(i) ## 튜플 출력"
   ]
  },
  {
   "cell_type": "code",
   "execution_count": 21,
   "metadata": {},
   "outputs": [
    {
     "name": "stdout",
     "output_type": "stream",
     "text": [
      "10\n",
      "20\n"
     ]
    }
   ],
   "source": [
    "a, b = (10, 20) ## unpack\n",
    "print(a)\n",
    "print(b)"
   ]
  },
  {
   "cell_type": "code",
   "execution_count": 22,
   "metadata": {},
   "outputs": [
    {
     "name": "stdout",
     "output_type": "stream",
     "text": [
      "0 a\n",
      "1 b\n",
      "2 c\n",
      "3 d\n"
     ]
    }
   ],
   "source": [
    "l1 = ['a', 'b', 'c', 'd']\n",
    "for idx, value in enumerate(l1) :\n",
    "    print(idx, value) ## 튜플 출력"
   ]
  },
  {
   "cell_type": "code",
   "execution_count": 27,
   "metadata": {},
   "outputs": [],
   "source": [
    "l1 = ['a', 'b', 'c', 'd']\n",
    "\n",
    "for idx, val in enumerate(l1) :\n",
    "    if idx >= 2:\n",
    "        l1[idx] = 0"
   ]
  },
  {
   "cell_type": "code",
   "execution_count": 28,
   "metadata": {},
   "outputs": [
    {
     "data": {
      "text/plain": [
       "['a', 'b', 0, 0]"
      ]
     },
     "execution_count": 28,
     "metadata": {},
     "output_type": "execute_result"
    }
   ],
   "source": [
    "l1"
   ]
  },
  {
   "cell_type": "markdown",
   "metadata": {},
   "source": [
    "# 연습문제 2."
   ]
  },
  {
   "cell_type": "markdown",
   "metadata": {},
   "source": [
    "(1)  x = [3, 6, 9, 20, -7, 5] 의 값의 모든 요소에 10을 곱한뒤 출력하세요\n",
    "심화 : 출력과 리스트 x 의 값에도 모두 10을 곱해주세요"
   ]
  },
  {
   "cell_type": "code",
   "execution_count": 2,
   "metadata": {},
   "outputs": [
    {
     "name": "stdout",
     "output_type": "stream",
     "text": [
      "30\n",
      "60\n",
      "90\n",
      "200\n",
      "-70\n",
      "50\n"
     ]
    }
   ],
   "source": [
    "x = [3, 6, 9, 20, -7, 5] \n",
    "\n",
    "for i in x :\n",
    "    print(i*10)"
   ]
  },
  {
   "cell_type": "code",
   "execution_count": 12,
   "metadata": {},
   "outputs": [
    {
     "name": "stdout",
     "output_type": "stream",
     "text": [
      "[30, 60, 90, 200, -70, 50]\n"
     ]
    }
   ],
   "source": [
    "x = [3, 6, 9, 20, -7, 5] \n",
    "\n",
    "for idx, val in enumerate(x) :\n",
    "    x[idx] = (val*10)\n",
    "    \n",
    "print(x)"
   ]
  },
  {
   "cell_type": "markdown",
   "metadata": {},
   "source": [
    "(2)  y = {“math”: 70, “science”: 80, “english”: 20} 의 값의 모든 요소에 10을 더한뒤 출력하세요\n",
    "심화 : 출력과 딕셔너리 y 의 값에도 모두 10을 더해주세요"
   ]
  },
  {
   "cell_type": "code",
   "execution_count": 90,
   "metadata": {},
   "outputs": [
    {
     "name": "stdout",
     "output_type": "stream",
     "text": [
      "80\n",
      "90\n",
      "30\n"
     ]
    }
   ],
   "source": [
    "y = {'math': 70, 'science': 80, 'english': 20}\n",
    "\n",
    "for i in y.values() :\n",
    "    print(i+10)\n",
    "    \n",
    "# for i in y : ## 선생님 답\n",
    "#     print(y[i]+10)"
   ]
  },
  {
   "cell_type": "code",
   "execution_count": 91,
   "metadata": {},
   "outputs": [
    {
     "name": "stdout",
     "output_type": "stream",
     "text": [
      "80\n",
      "90\n",
      "30\n"
     ]
    },
    {
     "data": {
      "text/plain": [
       "{'math': 80, 'science': 90, 'english': 30}"
      ]
     },
     "execution_count": 91,
     "metadata": {},
     "output_type": "execute_result"
    }
   ],
   "source": [
    "y = {'math': 70, 'science': 80, 'english': 20}\n",
    "# y_values = list(y.values())\n",
    "\n",
    "# for idx, val in enumerate(y_values) :\n",
    "#     y_values[idx] = val+10\n",
    "\n",
    "# for idx, val in enumerate(y) :\n",
    "#     y.update({str(val): int(y_values[int(idx)])})\n",
    "# print(y)\n",
    "\n",
    "for k in y : ## 선생님 답\n",
    "    y[k] = y[k]+10\n",
    "    print(y[k])\n",
    "    \n",
    "y"
   ]
  },
  {
   "cell_type": "markdown",
   "metadata": {},
   "source": [
    "(3) 숫자를 입력받고 입력받은 정수의 구구단을 출력하세요"
   ]
  },
  {
   "cell_type": "code",
   "execution_count": 77,
   "metadata": {},
   "outputs": [
    {
     "name": "stdout",
     "output_type": "stream",
     "text": [
      "정수입력 : 5\n",
      "5 * 1 = 5\n",
      "5 * 2 = 10\n",
      "5 * 3 = 15\n",
      "5 * 4 = 20\n",
      "5 * 5 = 25\n",
      "5 * 6 = 30\n",
      "5 * 7 = 35\n",
      "5 * 8 = 40\n",
      "5 * 9 = 45\n"
     ]
    }
   ],
   "source": [
    "num = int(input(\"정수입력 : \"))\n",
    "\n",
    "for i in range(1,10) :\n",
    "    print(num,\"*\",i,'=',num*i)"
   ]
  },
  {
   "cell_type": "markdown",
   "metadata": {},
   "source": [
    "## 연습문제 3."
   ]
  },
  {
   "cell_type": "markdown",
   "metadata": {},
   "source": [
    "(1) word = [“school”, “game”, “piano”, “science”, “hotel”, “mountian”] 중 글자수가 6글자 이상인 문자를 모아 새로운 리스트를 생성하세요"
   ]
  },
  {
   "cell_type": "code",
   "execution_count": 92,
   "metadata": {},
   "outputs": [
    {
     "data": {
      "text/plain": [
       "['school', 'science', 'mountian']"
      ]
     },
     "execution_count": 92,
     "metadata": {},
     "output_type": "execute_result"
    }
   ],
   "source": [
    "word = ['school', 'game', 'piano', 'science', 'hotel', 'mountian']\n",
    "\n",
    "list1 = []\n",
    "for i in word :\n",
    "    if len(str(i)) >= 6 :\n",
    "        list1.append(i)\n",
    "    else :\n",
    "        pass\n",
    "list1"
   ]
  },
  {
   "cell_type": "markdown",
   "metadata": {},
   "source": [
    "(2) 구구단을 1단부터 9단까지 출력하세요"
   ]
  },
  {
   "cell_type": "code",
   "execution_count": 100,
   "metadata": {},
   "outputs": [
    {
     "name": "stdout",
     "output_type": "stream",
     "text": [
      "1*1=1 1*2=2 1*3=3 1*4=4 1*5=5 1*6=6 1*7=7 1*8=8 1*9=9 \n",
      "2*1=2 2*2=4 2*3=6 2*4=8 2*5=10 2*6=12 2*7=14 2*8=16 2*9=18 \n",
      "3*1=3 3*2=6 3*3=9 3*4=12 3*5=15 3*6=18 3*7=21 3*8=24 3*9=27 \n",
      "4*1=4 4*2=8 4*3=12 4*4=16 4*5=20 4*6=24 4*7=28 4*8=32 4*9=36 \n",
      "5*1=5 5*2=10 5*3=15 5*4=20 5*5=25 5*6=30 5*7=35 5*8=40 5*9=45 \n",
      "6*1=6 6*2=12 6*3=18 6*4=24 6*5=30 6*6=36 6*7=42 6*8=48 6*9=54 \n",
      "7*1=7 7*2=14 7*3=21 7*4=28 7*5=35 7*6=42 7*7=49 7*8=56 7*9=63 \n",
      "8*1=8 8*2=16 8*3=24 8*4=32 8*5=40 8*6=48 8*7=56 8*8=64 8*9=72 \n",
      "9*1=9 9*2=18 9*3=27 9*4=36 9*5=45 9*6=54 9*7=63 9*8=72 9*9=81 \n"
     ]
    }
   ],
   "source": [
    "for i in range(1,10) :\n",
    "    for j in range(1,10) :\n",
    "        print('{}*{}={}'.format(i,j,i*j), end = ' ')\n",
    "    print()"
   ]
  },
  {
   "cell_type": "markdown",
   "metadata": {},
   "source": [
    "# 연습문제 4."
   ]
  },
  {
   "cell_type": "markdown",
   "metadata": {},
   "source": [
    "1-100 까지 숫자중\n",
    "3과 5의 공배수일경우 “3과 5의 공배수”\n",
    "나머지 숫자중 3의배수일경우 “3의배수”\n",
    "나머지 숫자중 5의배수일경우 “5의배수”\n",
    "모두 해당되지 않을경우 그냥숫자\n",
    "를 출력하세요\n",
    "\n",
    "심화 : 1-입력한숫자까지의 숫자중"
   ]
  },
  {
   "cell_type": "code",
   "execution_count": 103,
   "metadata": {},
   "outputs": [
    {
     "name": "stdout",
     "output_type": "stream",
     "text": [
      "1\n",
      "2\n",
      "3의 공배수\n",
      "4\n",
      "5의 공배수\n",
      "3의 공배수\n",
      "7\n",
      "8\n",
      "3의 공배수\n",
      "5의 공배수\n",
      "11\n",
      "3의 공배수\n",
      "13\n",
      "14\n",
      "3과 5의 공배수\n",
      "16\n",
      "17\n",
      "3의 공배수\n",
      "19\n",
      "5의 공배수\n",
      "3의 공배수\n",
      "22\n",
      "23\n",
      "3의 공배수\n",
      "5의 공배수\n",
      "26\n",
      "3의 공배수\n",
      "28\n",
      "29\n",
      "3과 5의 공배수\n",
      "31\n",
      "32\n",
      "3의 공배수\n",
      "34\n",
      "5의 공배수\n",
      "3의 공배수\n",
      "37\n",
      "38\n",
      "3의 공배수\n",
      "5의 공배수\n",
      "41\n",
      "3의 공배수\n",
      "43\n",
      "44\n",
      "3과 5의 공배수\n",
      "46\n",
      "47\n",
      "3의 공배수\n",
      "49\n",
      "5의 공배수\n",
      "3의 공배수\n",
      "52\n",
      "53\n",
      "3의 공배수\n",
      "5의 공배수\n",
      "56\n",
      "3의 공배수\n",
      "58\n",
      "59\n",
      "3과 5의 공배수\n",
      "61\n",
      "62\n",
      "3의 공배수\n",
      "64\n",
      "5의 공배수\n",
      "3의 공배수\n",
      "67\n",
      "68\n",
      "3의 공배수\n",
      "5의 공배수\n",
      "71\n",
      "3의 공배수\n",
      "73\n",
      "74\n",
      "3과 5의 공배수\n",
      "76\n",
      "77\n",
      "3의 공배수\n",
      "79\n",
      "5의 공배수\n",
      "3의 공배수\n",
      "82\n",
      "83\n",
      "3의 공배수\n",
      "5의 공배수\n",
      "86\n",
      "3의 공배수\n",
      "88\n",
      "89\n",
      "3과 5의 공배수\n",
      "91\n",
      "92\n",
      "3의 공배수\n",
      "94\n",
      "5의 공배수\n",
      "3의 공배수\n",
      "97\n",
      "98\n",
      "3의 공배수\n",
      "5의 공배수\n"
     ]
    }
   ],
   "source": [
    "list1 = list(range(1,101))\n",
    "\n",
    "for i in list1 :\n",
    "    num = int(i)\n",
    "    if (num%3 ==0)and (num%5 ==0) :\n",
    "        print(\"3과 5의 공배수\")\n",
    "    elif num%3 ==0 :\n",
    "        print(\"3의 공배수\")\n",
    "    elif num%5 ==0 :\n",
    "        print('5의 공배수')\n",
    "    else :\n",
    "        print(num)"
   ]
  },
  {
   "cell_type": "code",
   "execution_count": null,
   "metadata": {},
   "outputs": [],
   "source": []
  },
  {
   "cell_type": "code",
   "execution_count": null,
   "metadata": {},
   "outputs": [],
   "source": []
  },
  {
   "cell_type": "code",
   "execution_count": null,
   "metadata": {},
   "outputs": [],
   "source": []
  }
 ],
 "metadata": {
  "kernelspec": {
   "display_name": "Python 3",
   "language": "python",
   "name": "python3"
  },
  "language_info": {
   "codemirror_mode": {
    "name": "ipython",
    "version": 3
   },
   "file_extension": ".py",
   "mimetype": "text/x-python",
   "name": "python",
   "nbconvert_exporter": "python",
   "pygments_lexer": "ipython3",
   "version": "3.8.3"
  }
 },
 "nbformat": 4,
 "nbformat_minor": 4
}
