{
 "cells": [
  {
   "cell_type": "code",
   "execution_count": null,
   "metadata": {},
   "outputs": [],
   "source": [
    "## 클래스 : 기능과 속성을 모듈화(설계)"
   ]
  },
  {
   "cell_type": "code",
   "execution_count": 1,
   "metadata": {},
   "outputs": [],
   "source": [
    "class Dog:   \n",
    "    ## 클래스 내의 def는 메소드\n",
    "    def __init__(self, name, color): ## 생성자\n",
    "        self.hungry = 0 # 인스턴스 속성\n",
    "        self.name = name\n",
    "        self.color = color\n",
    "    def eat(self): # 행동\n",
    "        self.hungry -= 10\n",
    "        print('밥먹음', self.hungry)\n",
    "    def walk(self):\n",
    "        self.hungry += 10\n",
    "        print('산책', self.hungry)"
   ]
  },
  {
   "cell_type": "code",
   "execution_count": 2,
   "metadata": {},
   "outputs": [],
   "source": [
    "choco = Dog(\"choco\", \"black\")\n",
    "jjong = Dog(\"jjong\", \"White\")"
   ]
  },
  {
   "cell_type": "code",
   "execution_count": 3,
   "metadata": {},
   "outputs": [
    {
     "name": "stdout",
     "output_type": "stream",
     "text": [
      "밥먹음 -10\n",
      "밥먹음 -20\n",
      "산책 -10\n"
     ]
    }
   ],
   "source": [
    "choco.eat() ## hungry = -10\n",
    "choco.eat() ## hungry = -20\n",
    "choco.walk() ## hungry = -10"
   ]
  },
  {
   "cell_type": "code",
   "execution_count": 4,
   "metadata": {},
   "outputs": [
    {
     "name": "stdout",
     "output_type": "stream",
     "text": [
      "-10\n",
      "0\n"
     ]
    }
   ],
   "source": [
    "print(choco.hungry) ## -10\n",
    "print(jjong.hungry) ## 0"
   ]
  },
  {
   "cell_type": "code",
   "execution_count": 5,
   "metadata": {},
   "outputs": [
    {
     "name": "stdout",
     "output_type": "stream",
     "text": [
      "black\n"
     ]
    }
   ],
   "source": [
    "print(choco.color)"
   ]
  },
  {
   "cell_type": "code",
   "execution_count": 6,
   "metadata": {},
   "outputs": [
    {
     "name": "stdout",
     "output_type": "stream",
     "text": [
      "0\n",
      "jjong\n",
      "White\n"
     ]
    }
   ],
   "source": [
    "print(jjong.hungry)\n",
    "print(jjong.name)\n",
    "print(jjong.color)"
   ]
  },
  {
   "cell_type": "code",
   "execution_count": 10,
   "metadata": {},
   "outputs": [
    {
     "name": "stdout",
     "output_type": "stream",
     "text": [
      "-324\n"
     ]
    }
   ],
   "source": [
    "jjong.hungry = -324\n",
    "print(jjong.hungry)"
   ]
  },
  {
   "cell_type": "code",
   "execution_count": 20,
   "metadata": {},
   "outputs": [],
   "source": [
    "class Dog:   \n",
    "    ## 클래스 내의 def는 메소드\n",
    "    def __init__(self, name, color): ## 생성자\n",
    "        self.__hungry = 0 # private 선언(언더바 두개), 외부에서 변경 불가 위의 -324처럼X\n",
    "        self.name = name\n",
    "        self.color = color\n",
    "    def eat(self): # 행동\n",
    "        self.__hungry -= 10\n",
    "        print('밥먹음', self.__hungry)\n",
    "    def walk(self):\n",
    "        self.__hungry += 10\n",
    "        print('산책', self.__hungry)\n",
    "        \n",
    "    ## private 변수는 method로써 정의하면 외부에 출력 가능   \n",
    "    ## getter, setter함수 만들기\n",
    "    def get_hungry(self) :\n",
    "        return self.__hungry"
   ]
  },
  {
   "cell_type": "code",
   "execution_count": 21,
   "metadata": {},
   "outputs": [
    {
     "ename": "AttributeError",
     "evalue": "'Dog' object has no attribute '__hungry'",
     "output_type": "error",
     "traceback": [
      "\u001b[1;31m---------------------------------------------------------------------------\u001b[0m",
      "\u001b[1;31mAttributeError\u001b[0m                            Traceback (most recent call last)",
      "\u001b[1;32m<ipython-input-21-acfe3796982f>\u001b[0m in \u001b[0;36m<module>\u001b[1;34m\u001b[0m\n\u001b[0;32m      1\u001b[0m \u001b[0mjjong\u001b[0m \u001b[1;33m=\u001b[0m \u001b[0mDog\u001b[0m\u001b[1;33m(\u001b[0m\u001b[1;34m\"jjong\"\u001b[0m\u001b[1;33m,\u001b[0m \u001b[1;34m\"White\"\u001b[0m\u001b[1;33m)\u001b[0m\u001b[1;33m\u001b[0m\u001b[1;33m\u001b[0m\u001b[0m\n\u001b[1;32m----> 2\u001b[1;33m \u001b[0mjjong\u001b[0m\u001b[1;33m.\u001b[0m\u001b[0m__hungry\u001b[0m \u001b[1;31m## 외부에서 출력안됨, 접근 불가, 오직 클래스 내에서만 접근 가능\u001b[0m\u001b[1;33m\u001b[0m\u001b[1;33m\u001b[0m\u001b[0m\n\u001b[0m",
      "\u001b[1;31mAttributeError\u001b[0m: 'Dog' object has no attribute '__hungry'"
     ]
    }
   ],
   "source": [
    "jjong = Dog(\"jjong\", \"White\")\n",
    "jjong.__hungry ## 외부에서 출력안됨, 접근 불가, 오직 클래스 내에서만 접근 가능"
   ]
  },
  {
   "cell_type": "code",
   "execution_count": 24,
   "metadata": {},
   "outputs": [
    {
     "name": "stdout",
     "output_type": "stream",
     "text": [
      "밥먹음 -20\n"
     ]
    }
   ],
   "source": [
    "jjong.eat()\n",
    "## jjong은 인스턴스"
   ]
  },
  {
   "cell_type": "code",
   "execution_count": 25,
   "metadata": {},
   "outputs": [
    {
     "data": {
      "text/plain": [
       "-20"
      ]
     },
     "execution_count": 25,
     "metadata": {},
     "output_type": "execute_result"
    }
   ],
   "source": [
    "jjong.get_hungry()"
   ]
  },
  {
   "cell_type": "markdown",
   "metadata": {},
   "source": [
    "## 클래스 속성"
   ]
  },
  {
   "cell_type": "code",
   "execution_count": 179,
   "metadata": {},
   "outputs": [],
   "source": [
    "class Dog:  \n",
    "    dog_count = 0 ## class attrs\n",
    "    \n",
    "    ## 클래스 내의 def는 메소드\n",
    "    def __init__(self, name, color): ## 생성자\n",
    "        self.hungry = 0 # 인스턴스 속성\n",
    "        self.name = name\n",
    "        self.color = color\n",
    "        Dog.dog_count += 1\n",
    "    def eat(self): # 행동\n",
    "        self.hungry -= 10\n",
    "        print('밥먹음', self.hungry)\n",
    "    def walk(self):\n",
    "        self.hungry += 10\n",
    "        print('산책', self.hungry)\n",
    "    \n",
    "    def get_hungry(self) :\n",
    "        return self.__hungry\n",
    "    \n",
    "    @classmethod ## 클래스 메소드\n",
    "    def create_black_dog(cls, name) : ## cls = Dog, 클래스 자신\n",
    "        print(\"현재 강아지 수  : \", cls.dog_count)\n",
    "        return cls(name, 'Black')\n",
    "    \n",
    "    @staticmethod\n",
    "    def intro() :\n",
    "        print(\"안녕하세요. 동물의 숲입니다.\")\n",
    "        \n",
    "###############################################\n",
    "## 언더스코어 메소드, 매직 메소드\n",
    "## 178번 출력을 180번 출력으로 바꾸어 준다\n",
    "        \n",
    "    def __str__(self) : \n",
    "        return repr(self)\n",
    "    \n",
    "    def __repr__(self) :\n",
    "        return str({\n",
    "            'name' : self.name,\n",
    "            'color' : self.color\n",
    "        })\n",
    "    \n",
    "###############################################"
   ]
  },
  {
   "cell_type": "code",
   "execution_count": 178,
   "metadata": {},
   "outputs": [
    {
     "name": "stdout",
     "output_type": "stream",
     "text": [
      "<__main__.Dog object at 0x000002441D925EB0>\n"
     ]
    }
   ],
   "source": [
    "choco = Dog(\"초코\", \"Black\")\n",
    "print(choco)"
   ]
  },
  {
   "cell_type": "code",
   "execution_count": 180,
   "metadata": {},
   "outputs": [
    {
     "name": "stdout",
     "output_type": "stream",
     "text": [
      "{'name': '초코', 'color': 'Black'}\n"
     ]
    }
   ],
   "source": [
    "choco = Dog(\"초코\", \"Black\")\n",
    "print(choco)"
   ]
  },
  {
   "cell_type": "code",
   "execution_count": 59,
   "metadata": {},
   "outputs": [
    {
     "name": "stdout",
     "output_type": "stream",
     "text": [
      "현재 강아지 수  :  0\n"
     ]
    }
   ],
   "source": [
    "choco = Dog.create_black_dog('초코')"
   ]
  },
  {
   "cell_type": "code",
   "execution_count": 57,
   "metadata": {},
   "outputs": [
    {
     "data": {
      "text/plain": [
       "'초코'"
      ]
     },
     "execution_count": 57,
     "metadata": {},
     "output_type": "execute_result"
    }
   ],
   "source": [
    "choco.name"
   ]
  },
  {
   "cell_type": "code",
   "execution_count": 60,
   "metadata": {},
   "outputs": [
    {
     "data": {
      "text/plain": [
       "1"
      ]
     },
     "execution_count": 60,
     "metadata": {},
     "output_type": "execute_result"
    }
   ],
   "source": [
    "Dog.dog_count"
   ]
  },
  {
   "cell_type": "code",
   "execution_count": 49,
   "metadata": {},
   "outputs": [
    {
     "name": "stdout",
     "output_type": "stream",
     "text": [
      "안녕하세요. 동물의 숲입니다.\n"
     ]
    }
   ],
   "source": [
    "Dog.intro()"
   ]
  },
  {
   "cell_type": "code",
   "execution_count": 53,
   "metadata": {},
   "outputs": [],
   "source": [
    "choco = Dog(\"choco\", \"black\")\n",
    "jjong = Dog(\"jjong\", \"White\")"
   ]
  },
  {
   "cell_type": "code",
   "execution_count": 40,
   "metadata": {},
   "outputs": [
    {
     "data": {
      "text/plain": [
       "2"
      ]
     },
     "execution_count": 40,
     "metadata": {},
     "output_type": "execute_result"
    }
   ],
   "source": [
    "Dog.dog_count"
   ]
  },
  {
   "cell_type": "markdown",
   "metadata": {},
   "source": [
    "# 연습문제 1."
   ]
  },
  {
   "cell_type": "markdown",
   "metadata": {},
   "source": [
    "Car 클래스를 만드세요\n",
    "\n",
    "객체 생성시 차이름, 배기량, 생산년도 입력받으세요\n",
    "\n",
    "객체 생성시 등록된 차이름, 배기량, 생산년도는 직접 변경하지 못합니다\n",
    "\n",
    "차 이름을 변경하는 함수를 만드세요\n",
    "\n",
    "배기량에 따라 1000CC 이하 소형\n",
    "\n",
    "                      1000CC 이상 2000CC 이하 중형\n",
    "                      \n",
    "                      2000CC 이상 대형을 출력하는 함수를 만드세요\n",
    "                      \n",
    "객체 생성시마다 등록된 차량 갯수를 기록해주세요\n",
    "\n",
    "총 등록된 차량개수를 출력하는 클래스 함수를 만드세요\n",
    "\n",
    "\n",
    "** 조건 추가:\n",
    "\n",
    "객체의 name과 배기량, 생산년도를 반환하는 get 함수를 만드세요.\n",
    "\n",
    "ex) def get_name(self)//def get_cc(self) // def get_prod_year(self)\n",
    "\n",
    "speed라는 인스턴스 속성 만드시고, excel이라는 메소드가 speed를 증가시키고, \n",
    "\n",
    "break_라는 메소드는 speed를 감소시키도록 하세요.\n",
    "\n"
   ]
  },
  {
   "cell_type": "code",
   "execution_count": 237,
   "metadata": {},
   "outputs": [],
   "source": [
    "class Car :\n",
    "    \n",
    "    count_car = 0\n",
    "    def __init__(self, name, engine, made_year):\n",
    "        self.__name = name\n",
    "        self.__engine = engine\n",
    "        self.__made_year = made_year\n",
    "        self.speed = 0\n",
    "        Car.count_car += 1\n",
    "    \n",
    "    def change_name(self, name) :\n",
    "        self.__name = name\n",
    "        return self.__name\n",
    "        \n",
    "    def class_engine(self) :\n",
    "        if self.__engine <= 1000 :\n",
    "            size = \"소형\"\n",
    "        elif 1000 < self.__engine <= 2000 :\n",
    "            size = \"중형\"\n",
    "        else :\n",
    "            size = \"대형\"\n",
    "        print(size)\n",
    "        return size\n",
    "    \n",
    "    def excel(self): \n",
    "        self.speed += 10\n",
    "        print('속도 증가', self.speed)\n",
    "        \n",
    "    def break_(self): # 행동\n",
    "        self.speed -= 10\n",
    "        print('속도 감소', self.speed)\n",
    "            \n",
    "    def get_name(self) :\n",
    "        return self.__name\n",
    "    \n",
    "    def get_engine(self) :\n",
    "        return self.__engine\n",
    "            \n",
    "    def get_made_year(self) :\n",
    "        return self.__made_year\n",
    "            \n",
    "    @classmethod        \n",
    "    def num_of_car(cls) :\n",
    "        return cls.count_car    \n",
    "    \n",
    "    @property ## 함수를 속성처럼 사용하게 해줌, getter/setter를 간단하게 구현 가능\n",
    "    def speed(self) :\n",
    "        return self.speed"
   ]
  },
  {
   "cell_type": "code",
   "execution_count": 238,
   "metadata": {},
   "outputs": [
    {
     "name": "stdout",
     "output_type": "stream",
     "text": [
      "중형\n"
     ]
    },
    {
     "data": {
      "text/plain": [
       "'중형'"
      ]
     },
     "execution_count": 238,
     "metadata": {},
     "output_type": "execute_result"
    }
   ],
   "source": [
    "car1 = Car(\"a\", 1500, 2020) ## 엔진 등급\n",
    "car1.class_engine()"
   ]
  },
  {
   "cell_type": "code",
   "execution_count": 239,
   "metadata": {},
   "outputs": [
    {
     "name": "stdout",
     "output_type": "stream",
     "text": [
      "대형\n"
     ]
    },
    {
     "data": {
      "text/plain": [
       "'대형'"
      ]
     },
     "execution_count": 239,
     "metadata": {},
     "output_type": "execute_result"
    }
   ],
   "source": [
    "car2 = Car(\"c\", 5000, 2020) ## 엔진 등급\n",
    "car2.class_engine()"
   ]
  },
  {
   "cell_type": "code",
   "execution_count": 252,
   "metadata": {},
   "outputs": [
    {
     "data": {
      "text/plain": [
       "5000"
      ]
     },
     "execution_count": 252,
     "metadata": {},
     "output_type": "execute_result"
    }
   ],
   "source": [
    "car2.get_engine()"
   ]
  },
  {
   "cell_type": "code",
   "execution_count": 250,
   "metadata": {},
   "outputs": [
    {
     "data": {
      "text/plain": [
       "'b'"
      ]
     },
     "execution_count": 250,
     "metadata": {},
     "output_type": "execute_result"
    }
   ],
   "source": [
    "car1.change_name('b') ## 이름 바꾸기"
   ]
  },
  {
   "cell_type": "code",
   "execution_count": 251,
   "metadata": {},
   "outputs": [
    {
     "data": {
      "text/plain": [
       "'b'"
      ]
     },
     "execution_count": 251,
     "metadata": {},
     "output_type": "execute_result"
    }
   ],
   "source": [
    "car1.get_name()"
   ]
  },
  {
   "cell_type": "code",
   "execution_count": 241,
   "metadata": {},
   "outputs": [
    {
     "data": {
      "text/plain": [
       "2"
      ]
     },
     "execution_count": 241,
     "metadata": {},
     "output_type": "execute_result"
    }
   ],
   "source": [
    "Car.count_car ## 차량 갯수 등록"
   ]
  },
  {
   "cell_type": "code",
   "execution_count": 242,
   "metadata": {},
   "outputs": [],
   "source": [
    "a = Car.num_of_car() ## 총 등록된 차량개수를 출력하는 클래스 함수"
   ]
  },
  {
   "cell_type": "code",
   "execution_count": 243,
   "metadata": {},
   "outputs": [
    {
     "name": "stdout",
     "output_type": "stream",
     "text": [
      "2\n"
     ]
    }
   ],
   "source": [
    "print(a)"
   ]
  },
  {
   "cell_type": "code",
   "execution_count": 244,
   "metadata": {},
   "outputs": [
    {
     "data": {
      "text/plain": [
       "'b'"
      ]
     },
     "execution_count": 244,
     "metadata": {},
     "output_type": "execute_result"
    }
   ],
   "source": [
    "car1.get_name()"
   ]
  },
  {
   "cell_type": "code",
   "execution_count": 245,
   "metadata": {},
   "outputs": [
    {
     "name": "stdout",
     "output_type": "stream",
     "text": [
      "속도 증가 10\n"
     ]
    }
   ],
   "source": [
    "car1.excel()"
   ]
  },
  {
   "cell_type": "code",
   "execution_count": 246,
   "metadata": {},
   "outputs": [
    {
     "name": "stdout",
     "output_type": "stream",
     "text": [
      "속도 증가 20\n"
     ]
    }
   ],
   "source": [
    "car1.excel()"
   ]
  },
  {
   "cell_type": "code",
   "execution_count": 247,
   "metadata": {
    "scrolled": true
   },
   "outputs": [
    {
     "name": "stdout",
     "output_type": "stream",
     "text": [
      "속도 감소 10\n"
     ]
    }
   ],
   "source": [
    "car1.break_()"
   ]
  },
  {
   "cell_type": "code",
   "execution_count": 248,
   "metadata": {
    "scrolled": true
   },
   "outputs": [
    {
     "data": {
      "text/plain": [
       "10"
      ]
     },
     "execution_count": 248,
     "metadata": {},
     "output_type": "execute_result"
    }
   ],
   "source": [
    "car1.speed"
   ]
  },
  {
   "cell_type": "markdown",
   "metadata": {},
   "source": [
    "# 상속"
   ]
  },
  {
   "cell_type": "code",
   "execution_count": null,
   "metadata": {},
   "outputs": [],
   "source": [
    "## 동물의 숲"
   ]
  },
  {
   "cell_type": "code",
   "execution_count": 16,
   "metadata": {},
   "outputs": [],
   "source": [
    "class Animal() : ## 부모\n",
    "    \n",
    "    def __init__(self, name) :\n",
    "        self.__hungry = 0\n",
    "        self.name = name\n",
    "        \n",
    "    def intro(self) :\n",
    "        print(\"안녕하세요. 동물의 숲입니다.\")\n",
    "        \n",
    "    def eat(self) :\n",
    "        self.__hungry -= 10"
   ]
  },
  {
   "cell_type": "code",
   "execution_count": 17,
   "metadata": {},
   "outputs": [],
   "source": [
    "class Dog(Animal) : ## 자식\n",
    "    def __init__(self, name, type_) :\n",
    "        self._type = type_\n",
    "        super().__init__(name)## 부모클래스에 있는 메소드에 접근하다, name 받아온다"
   ]
  },
  {
   "cell_type": "code",
   "execution_count": 3,
   "metadata": {},
   "outputs": [],
   "source": [
    "class Cat(Animal) :\n",
    "    pass"
   ]
  },
  {
   "cell_type": "code",
   "execution_count": 4,
   "metadata": {},
   "outputs": [],
   "source": [
    "dog1 = Dog()\n",
    "cat1 = Cat()"
   ]
  },
  {
   "cell_type": "code",
   "execution_count": 6,
   "metadata": {},
   "outputs": [
    {
     "name": "stdout",
     "output_type": "stream",
     "text": [
      "안녕하세요. 동물의 숲입니다.\n"
     ]
    }
   ],
   "source": [
    "dog1.intro()"
   ]
  },
  {
   "cell_type": "code",
   "execution_count": 7,
   "metadata": {},
   "outputs": [
    {
     "name": "stdout",
     "output_type": "stream",
     "text": [
      "안녕하세요. 동물의 숲입니다.\n"
     ]
    }
   ],
   "source": [
    "cat1.intro()"
   ]
  },
  {
   "cell_type": "code",
   "execution_count": 42,
   "metadata": {},
   "outputs": [],
   "source": [
    "from abc import *"
   ]
  },
  {
   "cell_type": "code",
   "execution_count": 56,
   "metadata": {},
   "outputs": [],
   "source": [
    "class Bird(Animal) :\n",
    "    def fly(self) :\n",
    "        pass\n",
    "\n",
    "class LandAnimal(Animal, metaclass=ABCMeta) :\n",
    "    def __init__(self, name) :\n",
    "        super().__init__(name)## 부모클래스에 있는 메소드에 접근하다, name 받아온다\n",
    "    \n",
    "#     def walk(self) :\n",
    "#         raise NotImplementedError\n",
    "\n",
    "    @abstractmethod ## 지금 내가 뭘 사용할지 모르겠는데\n",
    "    ## 내 자식 클래스에서는 정의를 해줘야해\n",
    "    ## 안그러면 에러를 발생시켜\n",
    "    def walk(self) :\n",
    "        pass\n",
    "\n",
    "class SeaAnimal(Animal) :\n",
    "    def swim(self) :\n",
    "        pass"
   ]
  },
  {
   "cell_type": "code",
   "execution_count": 57,
   "metadata": {},
   "outputs": [],
   "source": [
    "class Craw(Bird) :\n",
    "    def cry(self) :\n",
    "        print(\"까악 까악\")"
   ]
  },
  {
   "cell_type": "code",
   "execution_count": 60,
   "metadata": {},
   "outputs": [],
   "source": [
    "class Lion(LandAnimal) :\n",
    "    def __init__(self, name, type_) :\n",
    "        self._type = type_\n",
    "        super().__init__(name)## 부모클래스에 있는 메소드에 접근하다, name 받아온다\n",
    "    \n",
    "    def intro(self) : ## 메소드 오버라이딩\n",
    "        print(\"여기 선물상자가 있어요.\")\n",
    "        ## 부모클래스 메소드 사용(접근)\n",
    "        super().intro()\n",
    "        \n",
    "    def walk(self) :\n",
    "        print(\"걷기. 터벅터벅\")\n",
    "        \n",
    "    def cry(slef) :\n",
    "        print(\"어흥\")"
   ]
  },
  {
   "cell_type": "code",
   "execution_count": 61,
   "metadata": {},
   "outputs": [
    {
     "name": "stdout",
     "output_type": "stream",
     "text": [
      "어흥\n",
      "여기 선물상자가 있어요.\n",
      "안녕하세요. 동물의 숲입니다.\n"
     ]
    }
   ],
   "source": [
    "lion1 = Lion(\"어흥이\", \"아프리카사자\")\n",
    "lion1.cry()\n",
    "lion1.intro()"
   ]
  },
  {
   "cell_type": "code",
   "execution_count": 62,
   "metadata": {},
   "outputs": [
    {
     "data": {
      "text/plain": [
       "'아프리카사자'"
      ]
     },
     "execution_count": 62,
     "metadata": {},
     "output_type": "execute_result"
    }
   ],
   "source": [
    "lion1._type"
   ]
  },
  {
   "cell_type": "code",
   "execution_count": 63,
   "metadata": {},
   "outputs": [
    {
     "name": "stdout",
     "output_type": "stream",
     "text": [
      "여기 선물상자가 있어요.\n",
      "안녕하세요. 동물의 숲입니다.\n"
     ]
    }
   ],
   "source": [
    "lion1.intro()"
   ]
  },
  {
   "cell_type": "code",
   "execution_count": 50,
   "metadata": {},
   "outputs": [
    {
     "name": "stdout",
     "output_type": "stream",
     "text": [
      "안녕하세요. 동물의 숲입니다.\n"
     ]
    }
   ],
   "source": [
    "cat1.intro()"
   ]
  },
  {
   "cell_type": "code",
   "execution_count": 51,
   "metadata": {},
   "outputs": [],
   "source": [
    "lion1.walk()"
   ]
  },
  {
   "cell_type": "markdown",
   "metadata": {},
   "source": [
    "## 다중상속"
   ]
  },
  {
   "cell_type": "code",
   "execution_count": 66,
   "metadata": {},
   "outputs": [],
   "source": [
    "class Bird(Animal) :\n",
    "    def __intit__(self, name) :\n",
    "        self.has_wing = True\n",
    "        super().__init__(name)"
   ]
  },
  {
   "cell_type": "code",
   "execution_count": 67,
   "metadata": {},
   "outputs": [],
   "source": [
    "class Fliable(object, metaclass=ABCMeta): ## 조류인데 날지 못하는 타조\n",
    "    @abstractmethod\n",
    "    def fly(self) :\n",
    "        pass"
   ]
  },
  {
   "cell_type": "code",
   "execution_count": 68,
   "metadata": {},
   "outputs": [],
   "source": [
    "class Walkable(object, metaclass=ABCMeta) :\n",
    "    @abstractmethod\n",
    "    def walk(self) :\n",
    "        pass"
   ]
  },
  {
   "cell_type": "code",
   "execution_count": 70,
   "metadata": {},
   "outputs": [],
   "source": [
    "class Ostrich(Bird, Walkable) : ## 조류인데 걷기만해(다중상속)\n",
    "    def __init__(self, name):\n",
    "        super().__init__(name) ## 양쪽 부모 모든 속성 사용 가능\n",
    "        \n",
    "    def walk(self) :\n",
    "        print('턱턱')"
   ]
  }
 ],
 "metadata": {
  "kernelspec": {
   "display_name": "Python 3",
   "language": "python",
   "name": "python3"
  },
  "language_info": {
   "codemirror_mode": {
    "name": "ipython",
    "version": 3
   },
   "file_extension": ".py",
   "mimetype": "text/x-python",
   "name": "python",
   "nbconvert_exporter": "python",
   "pygments_lexer": "ipython3",
   "version": "3.8.3"
  }
 },
 "nbformat": 4,
 "nbformat_minor": 4
}
