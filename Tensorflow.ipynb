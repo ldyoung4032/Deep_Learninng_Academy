{
 "cells": [
  {
   "cell_type": "code",
   "execution_count": 2,
   "metadata": {
    "scrolled": true
   },
   "outputs": [
    {
     "name": "stdout",
     "output_type": "stream",
     "text": [
      "1.15.0\n"
     ]
    }
   ],
   "source": [
    "import tensorflow as tf\n",
    "print(tf.__version__)"
   ]
  },
  {
   "cell_type": "code",
   "execution_count": 37,
   "metadata": {},
   "outputs": [
    {
     "name": "stdout",
     "output_type": "stream",
     "text": [
      "(1, 3)\n",
      "(3, 1)\n",
      "(1, 1)\n",
      "Tensor(\"MatMul_2:0\", shape=(1, 1), dtype=float32)\n",
      "[[12.]]\n"
     ]
    }
   ],
   "source": [
    "import tensorflow as tf\n",
    "\n",
    "x = tf.constant([[1.0,2.0,3.0]]) ## x라는 tensor(변수)\n",
    "w = tf.constant([[2.0], [2.0], [2.0]]) ## tr.constant : 상수리스트 생성 메서드\n",
    "y = tf.matmul(x,w) ## 곱하기\n",
    "\n",
    "print(x.get_shape()) \n",
    "print(w.get_shape())\n",
    "print(y.get_shape())\n",
    "\n",
    "## 모든 연산은 Session에서 run을 시켜줘야한다\n",
    "print(y) ## Tensor? 연산의 결과가 아닌 연산을 할 수 있는 것\n",
    "sess = tf.Session() ## Session은 실행을 가능하게 해주는 하나의 기계\n",
    "init = tf.global_variables_initializer()\n",
    "sess.run(init) ## 기계를 run해준다\n",
    "result = sess.run(y) \n",
    "print(result)"
   ]
  },
  {
   "cell_type": "markdown",
   "metadata": {},
   "source": [
    "## tensorflow 기초"
   ]
  },
  {
   "cell_type": "code",
   "execution_count": 38,
   "metadata": {},
   "outputs": [],
   "source": [
    "## 텐서플로우는 이름 그대로 tensor를 flow하면서 데이터를 처리하는 라이브러리\n",
    "## 행렬을 표현하는 객체"
   ]
  },
  {
   "cell_type": "code",
   "execution_count": 39,
   "metadata": {},
   "outputs": [
    {
     "name": "stdout",
     "output_type": "stream",
     "text": [
      "<class 'tensorflow.python.framework.ops.Tensor'>\n",
      "7.0\n",
      "Tensor(\"truediv_2:0\", shape=(), dtype=float32)\n"
     ]
    }
   ],
   "source": [
    "a = tf.constant(7.0, name = 'data1')\n",
    "b = tf.constant(7.0, name = 'data2')\n",
    "c = tf.constant(7.0, name = 'data3')\n",
    "\n",
    "\n",
    "v = a*b/c\n",
    "print(type(v))\n",
    "\n",
    "with tf.Session() as sess : ## 변수는 프로그래머가 아는 값으로 초기화해야한다\n",
    "\n",
    "    sess.run(tf.global_variables_initializer()) ## 텐서 초기화\n",
    "\n",
    "\n",
    "    print(sess.run(v))\n",
    "\n",
    "    print(v)\n",
    "\n",
    "## 텐서플로우는 그래프가 제일 중요하다"
   ]
  },
  {
   "cell_type": "code",
   "execution_count": 40,
   "metadata": {},
   "outputs": [],
   "source": [
    "## 그래프에 operation을 추가하고 operation간에 tensor를 전달하여 계산을 진행\n",
    "## 노드 : operation\n",
    "## 에지 : tensor"
   ]
  },
  {
   "cell_type": "code",
   "execution_count": 3,
   "metadata": {},
   "outputs": [
    {
     "data": {
      "text/plain": [
       "[]"
      ]
     },
     "execution_count": 3,
     "metadata": {},
     "output_type": "execute_result"
    }
   ],
   "source": [
    "tf.get_default_graph().get_operations() ## 빈 도화지(그린게 없다)"
   ]
  },
  {
   "cell_type": "code",
   "execution_count": 4,
   "metadata": {},
   "outputs": [],
   "source": [
    "a = tf.constant(7.0, name = 'data1') ## a는 에지, constant는 노드(operation)\n",
    "b = tf.constant(7.0, name = 'data2')\n",
    "c = tf.constant(7.0, name = 'data3')"
   ]
  },
  {
   "cell_type": "code",
   "execution_count": 5,
   "metadata": {
    "scrolled": true
   },
   "outputs": [
    {
     "data": {
      "text/plain": [
       "[<tf.Operation 'data1' type=Const>,\n",
       " <tf.Operation 'data2' type=Const>,\n",
       " <tf.Operation 'data3' type=Const>]"
      ]
     },
     "execution_count": 5,
     "metadata": {},
     "output_type": "execute_result"
    }
   ],
   "source": [
    "tf.get_default_graph().get_operations()"
   ]
  },
  {
   "cell_type": "code",
   "execution_count": 6,
   "metadata": {
    "scrolled": true
   },
   "outputs": [
    {
     "name": "stdout",
     "output_type": "stream",
     "text": [
      "Tensor(\"data1:0\", shape=(), dtype=float32)\n",
      "\n",
      "name: \"data1\"\n",
      "op: \"Const\"\n",
      "attr {\n",
      "  key: \"dtype\"\n",
      "  value {\n",
      "    type: DT_FLOAT\n",
      "  }\n",
      "}\n",
      "attr {\n",
      "  key: \"value\"\n",
      "  value {\n",
      "    tensor {\n",
      "      dtype: DT_FLOAT\n",
      "      tensor_shape {\n",
      "      }\n",
      "      float_val: 7.0\n",
      "    }\n",
      "  }\n",
      "}\n",
      "\n"
     ]
    }
   ],
   "source": [
    "print(a) ## operation이 실행되기 전까지 텐서릐 a의 값이 결정되지 않을 상태\n",
    "print()\n",
    "print(a.op) ## 텐서 a를 출력하는 operation을 확인"
   ]
  },
  {
   "cell_type": "code",
   "execution_count": 7,
   "metadata": {},
   "outputs": [
    {
     "name": "stdout",
     "output_type": "stream",
     "text": [
      "[<tf.Tensor 'data1:0' shape=() dtype=float32>]\n"
     ]
    }
   ],
   "source": [
    "print(a.op.outputs)"
   ]
  },
  {
   "cell_type": "code",
   "execution_count": 8,
   "metadata": {},
   "outputs": [
    {
     "name": "stdout",
     "output_type": "stream",
     "text": [
      "True\n"
     ]
    }
   ],
   "source": [
    "print(a is a.op.outputs[0])"
   ]
  },
  {
   "cell_type": "code",
   "execution_count": 9,
   "metadata": {},
   "outputs": [
    {
     "name": "stdout",
     "output_type": "stream",
     "text": [
      "True\n"
     ]
    }
   ],
   "source": [
    "print(a is a.op.outputs[0])"
   ]
  },
  {
   "cell_type": "code",
   "execution_count": 10,
   "metadata": {},
   "outputs": [
    {
     "name": "stdout",
     "output_type": "stream",
     "text": [
      "Tensor(\"data1:0\", shape=(), dtype=float32)\n"
     ]
    }
   ],
   "source": [
    "print(a.op.outputs[0])"
   ]
  },
  {
   "cell_type": "code",
   "execution_count": 11,
   "metadata": {},
   "outputs": [
    {
     "name": "stdout",
     "output_type": "stream",
     "text": [
      "7.0\n"
     ]
    }
   ],
   "source": [
    "print(a.op.node_def.attr['value'].tensor.float_val[0])"
   ]
  },
  {
   "cell_type": "code",
   "execution_count": 12,
   "metadata": {},
   "outputs": [],
   "source": [
    "v = a*b/c"
   ]
  },
  {
   "cell_type": "code",
   "execution_count": 13,
   "metadata": {
    "scrolled": true
   },
   "outputs": [
    {
     "data": {
      "text/plain": [
       "[<tf.Operation 'data1' type=Const>,\n",
       " <tf.Operation 'data2' type=Const>,\n",
       " <tf.Operation 'data3' type=Const>,\n",
       " <tf.Operation 'mul' type=Mul>,\n",
       " <tf.Operation 'truediv' type=RealDiv>]"
      ]
     },
     "execution_count": 13,
     "metadata": {},
     "output_type": "execute_result"
    }
   ],
   "source": [
    "tf.get_default_graph().get_operations()"
   ]
  },
  {
   "cell_type": "code",
   "execution_count": 14,
   "metadata": {
    "scrolled": true
   },
   "outputs": [
    {
     "name": "stdout",
     "output_type": "stream",
     "text": [
      "v.op.inputs =  <tensorflow.python.framework.ops.Operation._InputList object at 0x000001E9CDD1E988>\n"
     ]
    },
    {
     "data": {
      "text/plain": [
       "[<tf.Operation 'data1' type=Const>,\n",
       " <tf.Operation 'data2' type=Const>,\n",
       " <tf.Operation 'data3' type=Const>,\n",
       " <tf.Operation 'mul' type=Mul>,\n",
       " <tf.Operation 'truediv' type=RealDiv>]"
      ]
     },
     "execution_count": 14,
     "metadata": {},
     "output_type": "execute_result"
    }
   ],
   "source": [
    "print(\"v.op.inputs = \", v.op.inputs)\n",
    "tf.get_default_graph().get_operations()"
   ]
  },
  {
   "cell_type": "code",
   "execution_count": 15,
   "metadata": {},
   "outputs": [
    {
     "name": "stdout",
     "output_type": "stream",
     "text": [
      "v.op.outputs =  [<tf.Tensor 'truediv:0' shape=() dtype=float32>]\n"
     ]
    }
   ],
   "source": [
    "print(\"v.op.outputs = \", v.op.outputs)"
   ]
  },
  {
   "cell_type": "code",
   "execution_count": 16,
   "metadata": {},
   "outputs": [
    {
     "name": "stdout",
     "output_type": "stream",
     "text": [
      "True\n"
     ]
    }
   ],
   "source": [
    "print(v.op.outputs[0] is v)"
   ]
  },
  {
   "cell_type": "code",
   "execution_count": 17,
   "metadata": {},
   "outputs": [
    {
     "name": "stdout",
     "output_type": "stream",
     "text": [
      "name: \"truediv\"\n",
      "op: \"RealDiv\"\n",
      "input: \"mul\"\n",
      "input: \"data3\"\n",
      "attr {\n",
      "  key: \"T\"\n",
      "  value {\n",
      "    type: DT_FLOAT\n",
      "  }\n",
      "}\n",
      "\n"
     ]
    }
   ],
   "source": [
    "print(v.op) ## 텐서 v의 operation의 node확인"
   ]
  },
  {
   "cell_type": "code",
   "execution_count": 18,
   "metadata": {
    "scrolled": true
   },
   "outputs": [
    {
     "name": "stdout",
     "output_type": "stream",
     "text": [
      "name: \"truediv\"\n",
      "op: \"RealDiv\"\n",
      "input: \"mul\"\n",
      "input: \"data3\"\n",
      "attr {\n",
      "  key: \"T\"\n",
      "  value {\n",
      "    type: DT_FLOAT\n",
      "  }\n",
      "}\n",
      "\n"
     ]
    }
   ],
   "source": [
    "print(v.op.node_def) ## operation을 감싸고 있는 node 출력"
   ]
  },
  {
   "cell_type": "code",
   "execution_count": 19,
   "metadata": {},
   "outputs": [],
   "source": [
    "g = a*b*c"
   ]
  },
  {
   "cell_type": "code",
   "execution_count": 20,
   "metadata": {
    "scrolled": true
   },
   "outputs": [
    {
     "name": "stdout",
     "output_type": "stream",
     "text": [
      "name: \"mul_2\"\n",
      "op: \"Mul\"\n",
      "input: \"mul_1\"\n",
      "input: \"data3\"\n",
      "attr {\n",
      "  key: \"T\"\n",
      "  value {\n",
      "    type: DT_FLOAT\n",
      "  }\n",
      "}\n",
      "\n"
     ]
    }
   ],
   "source": [
    "print(g.op)"
   ]
  },
  {
   "cell_type": "code",
   "execution_count": 21,
   "metadata": {},
   "outputs": [],
   "source": [
    "h = a/b*c"
   ]
  },
  {
   "cell_type": "code",
   "execution_count": 22,
   "metadata": {
    "scrolled": true
   },
   "outputs": [
    {
     "name": "stdout",
     "output_type": "stream",
     "text": [
      "name: \"mul_3\"\n",
      "op: \"Mul\"\n",
      "input: \"truediv_1\"\n",
      "input: \"data3\"\n",
      "attr {\n",
      "  key: \"T\"\n",
      "  value {\n",
      "    type: DT_FLOAT\n",
      "  }\n",
      "}\n",
      "\n"
     ]
    }
   ],
   "source": [
    "print(h.op) "
   ]
  },
  {
   "cell_type": "code",
   "execution_count": 23,
   "metadata": {},
   "outputs": [],
   "source": [
    "## 3\n",
    "## 랭크 0, shape [] 스칼라(크기만 있고 방향X)\n",
    "\n",
    "## [1,2,3]\n",
    "## 랭크 1, shape [3] 벡터(크기와 방향이 존재)\n",
    "\n",
    "## [[1,2,3], [4,5,6]]\n",
    "## 랭크 2, shape [2,3] 행렬\n",
    "\n",
    "## [[[1,2,3]], [[7,8,9]]] \n",
    "## 랭크 3, shape [2,1,3] 행렬\n",
    "\n",
    "## rank는 텐서의 차원을 의미\n",
    "## 랭크가 0이라면 스칼라\n",
    "## 1이라면 벡터\n",
    "## 2하면 행렬\n",
    "## 그 이상은 tensor"
   ]
  },
  {
   "cell_type": "code",
   "execution_count": 24,
   "metadata": {},
   "outputs": [],
   "source": [
    "## 텐서플로우의 자료형\n",
    "## tf.constant : 변하지 않는 수를 지정하는 자료형\n",
    "## tf.Placeholder : 먼저 만들고 값을 나중에 지정해주는 자료형\n",
    "## tf.Placeholder(dtype, shape = none, name = none)\n",
    "\n",
    "## tf.Variable : 조건에 따라 값을 바꿔야하는 경우 사용하는 자료형\n",
    "\n",
    "## Placeholder랑 Variable의 차이\n",
    "## 딱히 없당(2버전에서 둘 중에 하나 사라짐)"
   ]
  },
  {
   "cell_type": "code",
   "execution_count": 25,
   "metadata": {},
   "outputs": [],
   "source": [
    "## tensor는 행렬과 객체의 역할이다"
   ]
  },
  {
   "cell_type": "code",
   "execution_count": 26,
   "metadata": {},
   "outputs": [],
   "source": [
    "a = tf.constant(5)\n",
    "b = tf.constant(2)\n",
    "c = tf.constant(3)\n",
    "d = tf.multiply(a,b) ## 10\n",
    "e = tf.add(c,d) ## 13\n",
    "f = tf.subtract(d,e) ## -3"
   ]
  },
  {
   "cell_type": "code",
   "execution_count": 27,
   "metadata": {
    "scrolled": true
   },
   "outputs": [
    {
     "name": "stdout",
     "output_type": "stream",
     "text": [
      "Tensor(\"Const:0\", shape=(), dtype=int32)\n",
      "Tensor(\"Const_1:0\", shape=(), dtype=int32)\n",
      "Tensor(\"Const_2:0\", shape=(), dtype=int32)\n",
      "Tensor(\"Mul_4:0\", shape=(), dtype=int32)\n",
      "Tensor(\"Add:0\", shape=(), dtype=int32)\n",
      "Tensor(\"Sub:0\", shape=(), dtype=int32)\n"
     ]
    }
   ],
   "source": [
    "print(a)\n",
    "print(b)\n",
    "print(c)\n",
    "print(d)\n",
    "print(e)\n",
    "print(f) ## 텐서를 만들었을뿐 실행하지는 않았다"
   ]
  },
  {
   "cell_type": "code",
   "execution_count": 28,
   "metadata": {},
   "outputs": [],
   "source": [
    "## 위에서는 tensor을 하고 이제 flow를 할건데\n",
    "## flow가 이루어지게 하기 위해 사용하는 것(그러한 동작)을 Session이 수행한다"
   ]
  },
  {
   "cell_type": "code",
   "execution_count": 29,
   "metadata": {},
   "outputs": [
    {
     "name": "stdout",
     "output_type": "stream",
     "text": [
      "outs = -3\n"
     ]
    }
   ],
   "source": [
    "sess = tf.Session()\n",
    "# sess.run(tf.global_variables_initializer())\n",
    "outs = sess.run(f)\n",
    "sess.close()\n",
    "print(\"outs =\", outs)"
   ]
  },
  {
   "cell_type": "code",
   "execution_count": 30,
   "metadata": {},
   "outputs": [
    {
     "name": "stdout",
     "output_type": "stream",
     "text": [
      "b'Hello, Tensorflow!'\n"
     ]
    }
   ],
   "source": [
    "hello = tf.constant(\"Hello, Tensorflow!\")\n",
    "sess = tf.Session()\n",
    "print(sess.run(hello))"
   ]
  },
  {
   "cell_type": "code",
   "execution_count": 31,
   "metadata": {
    "scrolled": true
   },
   "outputs": [
    {
     "name": "stdout",
     "output_type": "stream",
     "text": [
      "150.0\n"
     ]
    }
   ],
   "source": [
    "p_holder1 = tf.placeholder(dtype=tf.float32)\n",
    "p_holder2 = tf.placeholder(dtype=tf.float32)\n",
    "p_holder3 = tf.placeholder(dtype=tf.float32)\n",
    "\n",
    "val1 = 5\n",
    "val2 = 10\n",
    "val3 = 3\n",
    "\n",
    "ret_val = p_holder1*p_holder2*p_holder3\n",
    "\n",
    "feed_dict = {p_holder1:val1, p_holder2:val2, p_holder3:val3}\n",
    "result = sess.run(ret_val, feed_dict=feed_dict)\n",
    "\n",
    "print(result)"
   ]
  },
  {
   "cell_type": "code",
   "execution_count": 32,
   "metadata": {},
   "outputs": [
    {
     "name": "stdout",
     "output_type": "stream",
     "text": [
      "[[30. 30.]\n",
      " [70. 70.]]\n"
     ]
    }
   ],
   "source": [
    "## palceholder\n",
    "\n",
    "l = tf.placeholder(tf.float32, [2,4])\n",
    "i = [[1,2,3,4], [5,6,7,8]]\n",
    "\n",
    "W = tf.placeholder(tf.float32,[4,2])\n",
    "w = [[1,1],[2,2], [3,3], [4,4]]\n",
    "\n",
    "node = tf.matmul(l,W)\n",
    "\n",
    "sess = tf.Session()\n",
    "\n",
    "print(sess.run(node, feed_dict={l:i, W:w}))\n",
    "\n",
    "sess.close()"
   ]
  },
  {
   "cell_type": "code",
   "execution_count": 33,
   "metadata": {},
   "outputs": [
    {
     "name": "stdout",
     "output_type": "stream",
     "text": [
      "[[30 30]\n",
      " [70 70]]\n"
     ]
    }
   ],
   "source": [
    "## variable\n",
    "\n",
    "l = tf.Variable([[1,2,3,4], [5,6,7,8]],tf.float32)\n",
    "\n",
    "W = tf.Variable([[1,1],[2,2], [3,3], [4,4]],tf.float32)\n",
    "\n",
    "node = tf.matmul(l,W)\n",
    "\n",
    "sess = tf.Session()\n",
    "sess.run(tf.global_variables_initializer())\n",
    "\n",
    "print(sess.run(node))\n",
    "\n",
    "sess.close()"
   ]
  },
  {
   "cell_type": "code",
   "execution_count": 34,
   "metadata": {},
   "outputs": [
    {
     "name": "stdout",
     "output_type": "stream",
     "text": [
      "<tf.Variable 'Variable_2:0' shape=() dtype=int32_ref>\n",
      "7\n"
     ]
    }
   ],
   "source": [
    "## 변수를 재할당하는 방법(스칼라의 경우)\n",
    "\n",
    "x = tf.Variable(5, dtype = tf.int32)\n",
    "print(x)\n",
    "\n",
    "z = tf.assign(x,7)\n",
    "tf.global_variables_initializer()\n",
    "\n",
    "sess = tf.Session()\n",
    "sess.run(z)\n",
    "y = sess.run(x)\n",
    "print(y)"
   ]
  },
  {
   "cell_type": "markdown",
   "metadata": {},
   "source": [
    "## 경사하강법"
   ]
  },
  {
   "cell_type": "code",
   "execution_count": 35,
   "metadata": {
    "scrolled": true
   },
   "outputs": [
    {
     "name": "stdout",
     "output_type": "stream",
     "text": [
      "Epoch : 0, RMSE = 114.2489, 기울기 a = 7.5434, y 절편 b = 80.5910\n",
      "Epoch : 100, RMSE = 30.2481, 기울기 a = -11.4110, y 절편 b = 74.0875\n",
      "Epoch : 200, RMSE = 28.6267, 기울기 a = -10.7494, y 절편 b = 70.1156\n",
      "Epoch : 300, RMSE = 27.0053, 기울기 a = -10.0840, y 절편 b = 66.1443\n",
      "Epoch : 400, RMSE = 25.3839, 기울기 a = -9.4185, y 절편 b = 62.1731\n",
      "Epoch : 500, RMSE = 23.7625, 기울기 a = -8.7530, y 절편 b = 58.2018\n",
      "Epoch : 600, RMSE = 22.1412, 기울기 a = -8.0875, y 절편 b = 54.2305\n",
      "Epoch : 700, RMSE = 20.5198, 기울기 a = -7.4221, y 절편 b = 50.2593\n",
      "Epoch : 800, RMSE = 18.8984, 기울기 a = -6.7566, y 절편 b = 46.2880\n",
      "Epoch : 900, RMSE = 17.2770, 기울기 a = -6.0911, y 절편 b = 42.3167\n",
      "Epoch : 1000, RMSE = 15.6556, 기울기 a = -5.4256, y 절편 b = 38.3455\n",
      "Epoch : 1100, RMSE = 14.0342, 기울기 a = -4.7602, y 절편 b = 34.3742\n",
      "Epoch : 1200, RMSE = 12.4129, 기울기 a = -4.0947, y 절편 b = 30.4029\n",
      "Epoch : 1300, RMSE = 10.7915, 기울기 a = -3.4292, y 절편 b = 26.4316\n",
      "Epoch : 1400, RMSE = 9.1701, 기울기 a = -2.7637, y 절편 b = 22.4604\n",
      "Epoch : 1500, RMSE = 7.5487, 기울기 a = -2.0983, y 절편 b = 18.4891\n",
      "Epoch : 1600, RMSE = 5.9273, 기울기 a = -1.4328, y 절편 b = 14.5178\n",
      "Epoch : 1700, RMSE = 4.3059, 기울기 a = -0.7673, y 절편 b = 10.5466\n",
      "Epoch : 1800, RMSE = 2.6846, 기울기 a = -0.1018, y 절편 b = 6.5753\n",
      "Epoch : 1900, RMSE = 1.0632, 기울기 a = 0.5636, y 절편 b = 2.6040\n",
      "Epoch : 2000, RMSE = 1.5416, 기울기 a = 1.1488, y 절편 b = 0.7614\n"
     ]
    }
   ],
   "source": [
    "## 잘못된 코드\n",
    "## x,y의 데이터 값\n",
    "data = [[2,81], [4,93], [6,91],[8,97]]\n",
    "x_data = [x_row[0] for x_row in data]\n",
    "y_data = [y_row[0] for y_row in data]\n",
    "\n",
    "## 기울기와 a와 y절편 b의 값을 임의로 정한다.\n",
    "## 단, 기울기의 범위는 0~10 사이이며, y절편은 0~100 사이에서 변한게 한다.\n",
    "a = tf.Variable(tf.random_uniform([1], 0, 10, dtype = tf.float64, seed = 0))\n",
    "b = tf.Variable(tf.random_uniform([1], 0, 100, dtype = tf.float64, seed = 0))\n",
    "\n",
    "## y에 대한 일차 방정식 ax+b의 식을 세운다\n",
    "y = a*x_data +b\n",
    "\n",
    "## 텐서플로우 RMSE 함수\n",
    "rmse = tf.sqrt(tf.reduce_mean(tf.square(y-y_data)))\n",
    "\n",
    "## 학습률 값\n",
    "learning_rate = 0.1\n",
    "\n",
    "## RMSE 값을 최소로 하는 값 찾기\n",
    "gradient_descent = tf.train.GradientDescentOptimizer(learning_rate).minimize(rmse)\n",
    "\n",
    "## 텐서플로를 이용한 학습\n",
    "with tf.Session() as sess :\n",
    "    ## 변수 초기화\n",
    "    sess.run(tf.global_variables_initializer())\n",
    "    ## 2001번 실행(0번째를 포함하므로)\n",
    "    for step in range(2001) :\n",
    "        sess.run(gradient_descent)\n",
    "        ## 100번마다 결가 출력\n",
    "        if step % 100 == 0:\n",
    "            print(\"Epoch : %.f, RMSE = %.04f, 기울기 a = %.4f, y 절편 b = %.4f\" % (step, sess.run(rmse), sess.run(a), sess.run(b)))"
   ]
  },
  {
   "cell_type": "code",
   "execution_count": 36,
   "metadata": {},
   "outputs": [
    {
     "name": "stdout",
     "output_type": "stream",
     "text": [
      "[2, 4, 6, 8]\n",
      "[81, 93, 91, 97]\n",
      "Epoch : 0, RMSE = 30.2139, 기울기 a = 7.5235, y 절편 b = 80.5984\n",
      "Epoch : 100, RMSE = 2.8860, 기울기 a = 2.2299, y 절편 b = 79.4181\n",
      "Epoch : 200, RMSE = 2.8826, 기울기 a = 2.2601, y 절편 b = 79.2379\n",
      "Epoch : 300, RMSE = 2.8815, 기울기 a = 2.2773, y 절편 b = 79.1353\n",
      "Epoch : 400, RMSE = 2.8811, 기울기 a = 2.2871, y 절편 b = 79.0770\n",
      "Epoch : 500, RMSE = 2.8810, 기울기 a = 2.2927, y 절편 b = 79.0438\n",
      "Epoch : 600, RMSE = 2.8810, 기울기 a = 2.2958, y 절편 b = 79.0249\n",
      "Epoch : 700, RMSE = 2.8810, 기울기 a = 2.2976, y 절편 b = 79.0142\n",
      "Epoch : 800, RMSE = 2.8810, 기울기 a = 2.2987, y 절편 b = 79.0081\n",
      "Epoch : 900, RMSE = 2.8810, 기울기 a = 2.2992, y 절편 b = 79.0046\n",
      "Epoch : 1000, RMSE = 2.8810, 기울기 a = 2.2996, y 절편 b = 79.0026\n",
      "Epoch : 1100, RMSE = 2.8810, 기울기 a = 2.2998, y 절편 b = 79.0015\n",
      "Epoch : 1200, RMSE = 2.8810, 기울기 a = 2.2999, y 절편 b = 79.0008\n",
      "Epoch : 1300, RMSE = 2.8810, 기울기 a = 2.2999, y 절편 b = 79.0005\n",
      "Epoch : 1400, RMSE = 2.8810, 기울기 a = 2.3000, y 절편 b = 79.0003\n",
      "Epoch : 1500, RMSE = 2.8810, 기울기 a = 2.3000, y 절편 b = 79.0002\n",
      "Epoch : 1600, RMSE = 2.8810, 기울기 a = 2.3000, y 절편 b = 79.0001\n",
      "Epoch : 1700, RMSE = 2.8810, 기울기 a = 2.3000, y 절편 b = 79.0001\n",
      "Epoch : 1800, RMSE = 2.8810, 기울기 a = 2.3000, y 절편 b = 79.0000\n",
      "Epoch : 1900, RMSE = 2.8810, 기울기 a = 2.3000, y 절편 b = 79.0000\n",
      "Epoch : 2000, RMSE = 2.8810, 기울기 a = 2.3000, y 절편 b = 79.0000\n"
     ]
    }
   ],
   "source": [
    "#x,y 데이터 값\n",
    "data = [[2,81], [4,93], [6, 91], [8, 97]]\n",
    "x_data = [x_row[0] for x_row in data]\n",
    "y_data = [y_row[1] for y_row in data]\n",
    "\n",
    "print(x_data)\n",
    "print(y_data)\n",
    "\n",
    "#변수 선언\n",
    "#기울기 : a - 0~10 사이의 임의의 값\n",
    "#y 절편 : b - 0~100 사이의 임의의 값\n",
    "#seed? \n",
    "a = tf.Variable(tf.random_uniform([1], 0, 10, dtype=tf.float64, seed = 0))\n",
    "b = tf.Variable(tf.random_uniform([1], 0, 100, dtype=tf.float64, seed = 0))\n",
    "\n",
    "#그래프 선언\n",
    "#y에 대한 일차 방정식\n",
    "y = a * x_data +  b\n",
    "\n",
    "#텐서플로우 rmse(Root Mean Square Error, 평균 제곱근 편차) 함수\n",
    "rmse = tf.sqrt(tf.reduce_mean(tf.square(y - y_data)))\n",
    "\n",
    "learning_rate = 0.1\n",
    "gradient_descent = tf.train.GradientDescentOptimizer(learning_rate).minimize(rmse)\n",
    "\n",
    "with tf.Session() as sess:\n",
    "    #변수 초기화\n",
    "    sess.run(tf.global_variables_initializer())\n",
    "    #2001번 실행\n",
    "    for step in range(2001):\n",
    "        sess.run(gradient_descent)\n",
    "        #100번마다 결과 출력\n",
    "        if step % 100 == 0:\n",
    "            print(\"Epoch : %.f, RMSE = %.04f, 기울기 a = %.4f, y 절편 b = %.4f\" % (step, sess.run(rmse), sess.run(a), sess.run(b)))\n"
   ]
  }
 ],
 "metadata": {
  "kernelspec": {
   "display_name": "Python 3",
   "language": "python",
   "name": "python3"
  },
  "language_info": {
   "codemirror_mode": {
    "name": "ipython",
    "version": 3
   },
   "file_extension": ".py",
   "mimetype": "text/x-python",
   "name": "python",
   "nbconvert_exporter": "python",
   "pygments_lexer": "ipython3",
   "version": "3.7.7"
  }
 },
 "nbformat": 4,
 "nbformat_minor": 4
}
