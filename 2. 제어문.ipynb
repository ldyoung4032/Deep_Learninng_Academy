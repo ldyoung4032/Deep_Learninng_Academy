{
 "cells": [
  {
   "cell_type": "code",
   "execution_count": 1,
   "metadata": {},
   "outputs": [],
   "source": [
    "x = 10"
   ]
  },
  {
   "cell_type": "code",
   "execution_count": 2,
   "metadata": {},
   "outputs": [
    {
     "name": "stdout",
     "output_type": "stream",
     "text": [
      "X는 10입니다.\n"
     ]
    }
   ],
   "source": [
    "if  x == 10 :\n",
    "    print(\"X는 10입니다.\")"
   ]
  },
  {
   "cell_type": "code",
   "execution_count": 3,
   "metadata": {},
   "outputs": [
    {
     "name": "stdout",
     "output_type": "stream",
     "text": [
      "X는 10입니다.\n",
      "end code block\n"
     ]
    }
   ],
   "source": [
    "if  x == 10 :\n",
    "    print(\"X는 10입니다.\")\n",
    "    print(\"end code block\") ## 4 block"
   ]
  },
  {
   "cell_type": "code",
   "execution_count": 4,
   "metadata": {},
   "outputs": [],
   "source": [
    "if x != 10 :\n",
    "    print(\"X는 10이 아닙니다.\")"
   ]
  },
  {
   "cell_type": "code",
   "execution_count": 5,
   "metadata": {},
   "outputs": [],
   "source": [
    "if x == 10 :\n",
    "    pass"
   ]
  },
  {
   "cell_type": "code",
   "execution_count": 6,
   "metadata": {},
   "outputs": [
    {
     "name": "stdout",
     "output_type": "stream",
     "text": [
      "x는 3보다 크고 20보다 작습니다.\n"
     ]
    }
   ],
   "source": [
    "if x > 3 and x < 20 :\n",
    "    print(\"x는 3보다 크고 20보다 작습니다.\")"
   ]
  },
  {
   "cell_type": "code",
   "execution_count": 8,
   "metadata": {},
   "outputs": [
    {
     "name": "stdout",
     "output_type": "stream",
     "text": [
      "x는 3보다 큽니다.\n",
      "x는 10보다 크거나 같습니다.\n",
      "x는 20보다 작습니다.\n"
     ]
    }
   ],
   "source": [
    "if x>3:\n",
    "    print(\"x는 3보다 큽니다.\")\n",
    "    if x>=10 :\n",
    "        print(\"x는 10보다 크거나 같습니다.\")\n",
    "    if x<20 :\n",
    "        print(\"x는 20보다 작습니다.\")"
   ]
  },
  {
   "cell_type": "code",
   "execution_count": 10,
   "metadata": {},
   "outputs": [],
   "source": [
    "x = 3"
   ]
  },
  {
   "cell_type": "code",
   "execution_count": 11,
   "metadata": {},
   "outputs": [
    {
     "name": "stdout",
     "output_type": "stream",
     "text": [
      "x는 5보다 작거나 같습니다.\n"
     ]
    }
   ],
   "source": [
    "if x > 5 :\n",
    "    print(\"x는 5보다 큽니다.\")\n",
    "else:\n",
    "    print(\"x는 5보다 작거나 같습니다.\")"
   ]
  },
  {
   "cell_type": "code",
   "execution_count": 12,
   "metadata": {},
   "outputs": [
    {
     "name": "stdout",
     "output_type": "stream",
     "text": [
      "x는 2보다 큽니다.\n"
     ]
    }
   ],
   "source": [
    "if x > 5:\n",
    "    print('x는 5보다 큽니다.')\n",
    "elif x>2 :\n",
    "    print(\"x는 2보다 큽니다.\")\n",
    "elif x>0 :\n",
    "    print(\"x는 0보다 큽니다.\")\n",
    "else :\n",
    "    print(\"x는 음수입니다.\")"
   ]
  },
  {
   "cell_type": "code",
   "execution_count": 13,
   "metadata": {},
   "outputs": [],
   "source": [
    "x = 10"
   ]
  },
  {
   "cell_type": "code",
   "execution_count": 15,
   "metadata": {},
   "outputs": [
    {
     "name": "stdout",
     "output_type": "stream",
     "text": [
      "x는 0보다 큽니다.\n"
     ]
    }
   ],
   "source": [
    "if x > 0 :\n",
    "    print(\"x는 0보다 큽니다.\")\n",
    "elif x > 3 :\n",
    "    print(\"x는 3보다 큽니다.\")\n",
    "elif x > 8 :\n",
    "    print(\"x는 8보다 큽니다.\")\n",
    "else :\n",
    "    print(\"x는 음수입니다.\")"
   ]
  },
  {
   "cell_type": "markdown",
   "metadata": {},
   "source": [
    "## 연습 문제1."
   ]
  },
  {
   "cell_type": "markdown",
   "metadata": {},
   "source": [
    "사용자로 점수를 3개 입력받아\n",
    "모든 점수가 65점보다 클 경우 합격 아닐경우 불합격을 출력하세요\n",
    "단, 0~100 이 아닌 숫자가 입력된경우 잘못된 “잘못된 점수가 입력되었습니다\" 를 출력하세요\n"
   ]
  },
  {
   "cell_type": "code",
   "execution_count": 55,
   "metadata": {},
   "outputs": [
    {
     "name": "stdout",
     "output_type": "stream",
     "text": [
      "점수 : 1\n",
      "점수 : 1\n",
      "점수 : 1\n",
      "불합격\n"
     ]
    }
   ],
   "source": [
    "score = []\n",
    "for i in range(3) :\n",
    "    i = int(input(\"점수 : \"))\n",
    "    if i > 100 or i <  0 :\n",
    "        print(\"잘못된 점수가 입력되었습니다.\")\n",
    "    else :\n",
    "        score.append(i)\n",
    "        \n",
    "# print(score)\n",
    "\n",
    "def pass_nonpass (score) :\n",
    "    score_pnp = []\n",
    "    for i in score :\n",
    "        if i > 65 :\n",
    "            score_pnp.append(\"합격\")\n",
    "        else :\n",
    "            score_pnp.append(\"불합격\")\n",
    "    return score_pnp\n",
    "\n",
    "panonpa = pass_nonpass(score)\n",
    "\n",
    "if '불합격' in panonpa :\n",
    "    print(\"불합격\")\n",
    "else :\n",
    "    print(\"합격\")"
   ]
  },
  {
   "cell_type": "code",
   "execution_count": 42,
   "metadata": {},
   "outputs": [
    {
     "name": "stdout",
     "output_type": "stream",
     "text": [
      "점수입력1: 34\n",
      "점수입력2: 57\n",
      "점수입력3: 89\n",
      "불합격\n"
     ]
    }
   ],
   "source": [
    "## 선생님 답\n",
    "a = int(input(\"점수입력1: \"))\n",
    "b = int(input(\"점수입력2: \"))\n",
    "c = int(input(\"점수입력3: \"))\n",
    "\n",
    "a,b,c = map(int, [a,b,c])\n",
    "\n",
    "if (a not in range(101)) or (b not in range(101)) or (c not in range(101)) :\n",
    "    print(\"잘못된 점수가 입력되었습니다.\")\n",
    "elif  a > 65 and b >65 and c > 65 :\n",
    "        print(\"합격\")\n",
    "else :\n",
    "    print(\"불합격\")"
   ]
  },
  {
   "cell_type": "markdown",
   "metadata": {},
   "source": [
    "## 연습 문제2."
   ]
  },
  {
   "cell_type": "markdown",
   "metadata": {},
   "source": [
    "[홀수 짝수 판별기]\n",
    "사용자로부터 정수를 하나 입력받아  \n",
    "입력한 정수가 홀수인지 짝수인지 판별하여라.  \n",
    "(** 0은 짝수라 하자.)"
   ]
  },
  {
   "cell_type": "code",
   "execution_count": 52,
   "metadata": {},
   "outputs": [
    {
     "name": "stdout",
     "output_type": "stream",
     "text": [
      "정수를 입력해주세요. : 101\n",
      "입력하신 101는 홀수입니다.\n"
     ]
    }
   ],
   "source": [
    "num = int(input(\"정수를 입력해주세요. : \"))\n",
    "\n",
    "if num == 0 :\n",
    "    print(\"입력하신 0은 짝수입니다.\")\n",
    "\n",
    "elif num%2 == 0 :\n",
    "    print(\"입력하신 %d는 짝수입니다.\" % num)\n",
    "    \n",
    "else :\n",
    "    print(\"입력하신 %d는 홀수입니다.\" % num)\n"
   ]
  },
  {
   "cell_type": "markdown",
   "metadata": {},
   "source": [
    "# for문"
   ]
  },
  {
   "cell_type": "code",
   "execution_count": 56,
   "metadata": {},
   "outputs": [
    {
     "name": "stdout",
     "output_type": "stream",
     "text": [
      "0\n",
      "1\n",
      "2\n",
      "3\n",
      "4\n",
      "5\n",
      "6\n",
      "7\n",
      "8\n",
      "9\n"
     ]
    }
   ],
   "source": [
    "for i in range(10) :\n",
    "    print(i)"
   ]
  },
  {
   "cell_type": "code",
   "execution_count": 57,
   "metadata": {},
   "outputs": [
    {
     "name": "stdout",
     "output_type": "stream",
     "text": [
      "a\n",
      "b\n",
      "c\n"
     ]
    }
   ],
   "source": [
    "for i in ['a', 'b', 'c'] :\n",
    "    print(i)\n",
    "    "
   ]
  },
  {
   "cell_type": "code",
   "execution_count": 60,
   "metadata": {},
   "outputs": [
    {
     "name": "stdout",
     "output_type": "stream",
     "text": [
      "name\n",
      "city\n"
     ]
    }
   ],
   "source": [
    "profile = {\n",
    "    \"name\" : \"이다영\",\n",
    "    'city' : '서울'\n",
    "}\n",
    "\n",
    "for i in profile :\n",
    "    print(i)"
   ]
  },
  {
   "cell_type": "code",
   "execution_count": 63,
   "metadata": {},
   "outputs": [
    {
     "name": "stdout",
     "output_type": "stream",
     "text": [
      "O r a n g e "
     ]
    }
   ],
   "source": [
    "for i in \"Orange\" :\n",
    "    print(i, end = \" \")"
   ]
  },
  {
   "cell_type": "markdown",
   "metadata": {},
   "source": [
    "## 연습문제 1."
   ]
  },
  {
   "cell_type": "markdown",
   "metadata": {},
   "source": [
    "(1) 사용자로부터 정수를 입력받아, 해당 정수만큼 “안녕”을 출력하세요."
   ]
  },
  {
   "cell_type": "code",
   "execution_count": 68,
   "metadata": {
    "scrolled": true
   },
   "outputs": [
    {
     "name": "stdout",
     "output_type": "stream",
     "text": [
      "정수를 입력해주세요 : 10\n",
      "안녕\n",
      "안녕\n",
      "안녕\n",
      "안녕\n",
      "안녕\n",
      "안녕\n",
      "안녕\n",
      "안녕\n",
      "안녕\n",
      "안녕\n"
     ]
    }
   ],
   "source": [
    "num = int(input(\"정수를 입력해주세요 : \"))\n",
    "\n",
    "a = \"안녕\"\n",
    "\n",
    "for i in range(num) :\n",
    "    print(a)"
   ]
  },
  {
   "cell_type": "markdown",
   "metadata": {},
   "source": [
    "(2) 사용자로부터 정수를 입력받아, 입력된 정수 만큼 별 찍기"
   ]
  },
  {
   "cell_type": "code",
   "execution_count": 69,
   "metadata": {
    "scrolled": false
   },
   "outputs": [
    {
     "name": "stdout",
     "output_type": "stream",
     "text": [
      "정수를 입력해주세요 : 8\n",
      "*\n",
      "**\n",
      "***\n",
      "****\n",
      "*****\n",
      "******\n",
      "*******\n",
      "********\n"
     ]
    }
   ],
   "source": [
    "num = int(input(\"정수를 입력해주세요 : \"))\n",
    "\n",
    "for i in range(num) :\n",
    "    print(\"*\"*(i+1))"
   ]
  },
  {
   "cell_type": "markdown",
   "metadata": {},
   "source": [
    "(3) 사용자로부터 정수를 입력받아, 입력된 정수 만큼 별 찍기(역순)"
   ]
  },
  {
   "cell_type": "code",
   "execution_count": 3,
   "metadata": {
    "scrolled": false
   },
   "outputs": [
    {
     "name": "stdout",
     "output_type": "stream",
     "text": [
      "정수를 입력해주세요 : 10\n",
      "**********\n",
      "*********\n",
      "********\n",
      "*******\n",
      "******\n",
      "*****\n",
      "****\n",
      "***\n",
      "**\n",
      "*\n"
     ]
    }
   ],
   "source": [
    "num = int(input(\"정수를 입력해주세요 : \"))\n",
    "\n",
    "for i in range(num) :\n",
    "    print(\"*\"*(num-i))"
   ]
  },
  {
   "cell_type": "markdown",
   "metadata": {},
   "source": [
    "## for문 중첩"
   ]
  },
  {
   "cell_type": "code",
   "execution_count": 14,
   "metadata": {},
   "outputs": [
    {
     "name": "stdout",
     "output_type": "stream",
     "text": [
      "i :  0\n",
      "i*j : 0\n",
      "i*j : 0\n",
      "i*j : 0\n",
      "i*j : 0\n",
      "i*j : 0\n",
      "----------\n",
      "i :  1\n",
      "i*j : 0\n",
      "i*j : 1\n",
      "i*j : 2\n",
      "i*j : 3\n",
      "i*j : 4\n",
      "----------\n",
      "i :  2\n",
      "i*j : 0\n",
      "i*j : 2\n",
      "i*j : 4\n",
      "i*j : 6\n",
      "i*j : 8\n",
      "----------\n",
      "i :  3\n",
      "i*j : 0\n",
      "i*j : 3\n",
      "i*j : 6\n",
      "i*j : 9\n",
      "i*j : 12\n",
      "----------\n",
      "i :  4\n",
      "i*j : 0\n",
      "i*j : 4\n",
      "i*j : 8\n",
      "i*j : 12\n",
      "i*j : 16\n",
      "----------\n"
     ]
    }
   ],
   "source": [
    "for i in range(5) :\n",
    "    print('i : ', i)\n",
    "    for j in range(5) :\n",
    "#         print('j : ', j)\n",
    "        print(\"i*j :\", i*j)\n",
    "    print('-'*10)\n",
    "        "
   ]
  },
  {
   "cell_type": "code",
   "execution_count": 16,
   "metadata": {},
   "outputs": [
    {
     "name": "stdout",
     "output_type": "stream",
     "text": [
      "코드 실행\n",
      "코드 실행\n",
      "코드 실행\n",
      "코드 실행\n",
      "코드 실행\n",
      "코드 실행\n",
      "코드 실행\n",
      "코드 실행\n",
      "코드 실행\n",
      "코드 실행\n",
      "코드 실행\n",
      "코드 실행\n",
      "코드 실행\n",
      "코드 실행\n",
      "코드 실행\n",
      "코드 실행\n",
      "코드 실행\n",
      "코드 실행\n",
      "코드 실행\n",
      "코드 실행\n",
      "코드 실행\n",
      "코드 실행\n",
      "코드 실행\n",
      "코드 실행\n",
      "코드 실행\n"
     ]
    }
   ],
   "source": [
    "for i in range(5) :\n",
    "    for j in range(5) :\n",
    "        print(\"코드 실행\")"
   ]
  },
  {
   "cell_type": "code",
   "execution_count": 19,
   "metadata": {},
   "outputs": [
    {
     "name": "stdout",
     "output_type": "stream",
     "text": [
      "(0, 'a')\n",
      "(1, 'b')\n",
      "(2, 'c')\n",
      "(3, 'd')\n"
     ]
    }
   ],
   "source": [
    "l1 = ['a', 'b', 'c', 'd']\n",
    "for i in enumerate(l1) :\n",
    "    print(i) ## 튜플 출력"
   ]
  },
  {
   "cell_type": "code",
   "execution_count": 21,
   "metadata": {},
   "outputs": [
    {
     "name": "stdout",
     "output_type": "stream",
     "text": [
      "10\n",
      "20\n"
     ]
    }
   ],
   "source": [
    "a, b = (10, 20) ## unpack\n",
    "print(a)\n",
    "print(b)"
   ]
  },
  {
   "cell_type": "code",
   "execution_count": 22,
   "metadata": {},
   "outputs": [
    {
     "name": "stdout",
     "output_type": "stream",
     "text": [
      "0 a\n",
      "1 b\n",
      "2 c\n",
      "3 d\n"
     ]
    }
   ],
   "source": [
    "l1 = ['a', 'b', 'c', 'd']\n",
    "for idx, value in enumerate(l1) :\n",
    "    print(idx, value) ## 튜플 출력"
   ]
  },
  {
   "cell_type": "code",
   "execution_count": 27,
   "metadata": {},
   "outputs": [],
   "source": [
    "l1 = ['a', 'b', 'c', 'd']\n",
    "\n",
    "for idx, val in enumerate(l1) :\n",
    "    if idx >= 2:\n",
    "        l1[idx] = 0"
   ]
  },
  {
   "cell_type": "code",
   "execution_count": 28,
   "metadata": {},
   "outputs": [
    {
     "data": {
      "text/plain": [
       "['a', 'b', 0, 0]"
      ]
     },
     "execution_count": 28,
     "metadata": {},
     "output_type": "execute_result"
    }
   ],
   "source": [
    "l1"
   ]
  },
  {
   "cell_type": "markdown",
   "metadata": {},
   "source": [
    "# 연습문제 2."
   ]
  },
  {
   "cell_type": "markdown",
   "metadata": {},
   "source": [
    "(1)  x = [3, 6, 9, 20, -7, 5] 의 값의 모든 요소에 10을 곱한뒤 출력하세요\n",
    "심화 : 출력과 리스트 x 의 값에도 모두 10을 곱해주세요"
   ]
  },
  {
   "cell_type": "code",
   "execution_count": 2,
   "metadata": {},
   "outputs": [
    {
     "name": "stdout",
     "output_type": "stream",
     "text": [
      "30\n",
      "60\n",
      "90\n",
      "200\n",
      "-70\n",
      "50\n"
     ]
    }
   ],
   "source": [
    "x = [3, 6, 9, 20, -7, 5] \n",
    "\n",
    "for i in x :\n",
    "    print(i*10)"
   ]
  },
  {
   "cell_type": "code",
   "execution_count": 12,
   "metadata": {},
   "outputs": [
    {
     "name": "stdout",
     "output_type": "stream",
     "text": [
      "[30, 60, 90, 200, -70, 50]\n"
     ]
    }
   ],
   "source": [
    "x = [3, 6, 9, 20, -7, 5] \n",
    "\n",
    "for idx, val in enumerate(x) :\n",
    "    x[idx] = (val*10)\n",
    "    \n",
    "print(x)"
   ]
  },
  {
   "cell_type": "markdown",
   "metadata": {},
   "source": [
    "(2)  y = {“math”: 70, “science”: 80, “english”: 20} 의 값의 모든 요소에 10을 더한뒤 출력하세요\n",
    "심화 : 출력과 딕셔너리 y 의 값에도 모두 10을 더해주세요"
   ]
  },
  {
   "cell_type": "code",
   "execution_count": 90,
   "metadata": {},
   "outputs": [
    {
     "name": "stdout",
     "output_type": "stream",
     "text": [
      "80\n",
      "90\n",
      "30\n"
     ]
    }
   ],
   "source": [
    "y = {'math': 70, 'science': 80, 'english': 20}\n",
    "\n",
    "for i in y.values() :\n",
    "    print(i+10)\n",
    "    \n",
    "# for i in y : ## 선생님 답\n",
    "#     print(y[i]+10)"
   ]
  },
  {
   "cell_type": "code",
   "execution_count": 91,
   "metadata": {},
   "outputs": [
    {
     "name": "stdout",
     "output_type": "stream",
     "text": [
      "80\n",
      "90\n",
      "30\n"
     ]
    },
    {
     "data": {
      "text/plain": [
       "{'math': 80, 'science': 90, 'english': 30}"
      ]
     },
     "execution_count": 91,
     "metadata": {},
     "output_type": "execute_result"
    }
   ],
   "source": [
    "y = {'math': 70, 'science': 80, 'english': 20}\n",
    "# y_values = list(y.values())\n",
    "\n",
    "# for idx, val in enumerate(y_values) :\n",
    "#     y_values[idx] = val+10\n",
    "\n",
    "# for idx, val in enumerate(y) :\n",
    "#     y.update({str(val): int(y_values[int(idx)])})\n",
    "# print(y)\n",
    "\n",
    "for k in y : ## 선생님 답\n",
    "    y[k] = y[k]+10\n",
    "    print(y[k])\n",
    "    \n",
    "y"
   ]
  },
  {
   "cell_type": "markdown",
   "metadata": {},
   "source": [
    "(3) 숫자를 입력받고 입력받은 정수의 구구단을 출력하세요"
   ]
  },
  {
   "cell_type": "code",
   "execution_count": 77,
   "metadata": {},
   "outputs": [
    {
     "name": "stdout",
     "output_type": "stream",
     "text": [
      "정수입력 : 5\n",
      "5 * 1 = 5\n",
      "5 * 2 = 10\n",
      "5 * 3 = 15\n",
      "5 * 4 = 20\n",
      "5 * 5 = 25\n",
      "5 * 6 = 30\n",
      "5 * 7 = 35\n",
      "5 * 8 = 40\n",
      "5 * 9 = 45\n"
     ]
    }
   ],
   "source": [
    "num = int(input(\"정수입력 : \"))\n",
    "\n",
    "for i in range(1,10) :\n",
    "    print(num,\"*\",i,'=',num*i)"
   ]
  },
  {
   "cell_type": "markdown",
   "metadata": {},
   "source": [
    "## 연습문제 3."
   ]
  },
  {
   "cell_type": "markdown",
   "metadata": {},
   "source": [
    "(1) word = [“school”, “game”, “piano”, “science”, “hotel”, “mountian”] 중 글자수가 6글자 이상인 문자를 모아 새로운 리스트를 생성하세요"
   ]
  },
  {
   "cell_type": "code",
   "execution_count": 92,
   "metadata": {},
   "outputs": [
    {
     "data": {
      "text/plain": [
       "['school', 'science', 'mountian']"
      ]
     },
     "execution_count": 92,
     "metadata": {},
     "output_type": "execute_result"
    }
   ],
   "source": [
    "word = ['school', 'game', 'piano', 'science', 'hotel', 'mountian']\n",
    "\n",
    "list1 = []\n",
    "for i in word :\n",
    "    if len(str(i)) >= 6 :\n",
    "        list1.append(i)\n",
    "    else :\n",
    "        pass\n",
    "list1"
   ]
  },
  {
   "cell_type": "markdown",
   "metadata": {},
   "source": [
    "(2) 구구단을 1단부터 9단까지 출력하세요"
   ]
  },
  {
   "cell_type": "code",
   "execution_count": 100,
   "metadata": {
    "scrolled": true
   },
   "outputs": [
    {
     "name": "stdout",
     "output_type": "stream",
     "text": [
      "1*1=1 1*2=2 1*3=3 1*4=4 1*5=5 1*6=6 1*7=7 1*8=8 1*9=9 \n",
      "2*1=2 2*2=4 2*3=6 2*4=8 2*5=10 2*6=12 2*7=14 2*8=16 2*9=18 \n",
      "3*1=3 3*2=6 3*3=9 3*4=12 3*5=15 3*6=18 3*7=21 3*8=24 3*9=27 \n",
      "4*1=4 4*2=8 4*3=12 4*4=16 4*5=20 4*6=24 4*7=28 4*8=32 4*9=36 \n",
      "5*1=5 5*2=10 5*3=15 5*4=20 5*5=25 5*6=30 5*7=35 5*8=40 5*9=45 \n",
      "6*1=6 6*2=12 6*3=18 6*4=24 6*5=30 6*6=36 6*7=42 6*8=48 6*9=54 \n",
      "7*1=7 7*2=14 7*3=21 7*4=28 7*5=35 7*6=42 7*7=49 7*8=56 7*9=63 \n",
      "8*1=8 8*2=16 8*3=24 8*4=32 8*5=40 8*6=48 8*7=56 8*8=64 8*9=72 \n",
      "9*1=9 9*2=18 9*3=27 9*4=36 9*5=45 9*6=54 9*7=63 9*8=72 9*9=81 \n"
     ]
    }
   ],
   "source": [
    "for i in range(1,10) :\n",
    "    for j in range(1,10) :\n",
    "        print('{}*{}={}'.format(i,j,i*j), end = ' ')\n",
    "    print()"
   ]
  },
  {
   "cell_type": "markdown",
   "metadata": {},
   "source": [
    "# 연습문제 4."
   ]
  },
  {
   "cell_type": "markdown",
   "metadata": {},
   "source": [
    "1-100 까지 숫자중\n",
    "3과 5의 공배수일경우 “3과 5의 공배수”\n",
    "나머지 숫자중 3의배수일경우 “3의배수”\n",
    "나머지 숫자중 5의배수일경우 “5의배수”\n",
    "모두 해당되지 않을경우 그냥숫자\n",
    "를 출력하세요\n",
    "\n",
    "심화 : 1-입력한숫자까지의 숫자중"
   ]
  },
  {
   "cell_type": "code",
   "execution_count": 108,
   "metadata": {},
   "outputs": [
    {
     "name": "stdout",
     "output_type": "stream",
     "text": [
      "정수 입력 : 10\n",
      "1\n",
      "2\n",
      "3의 공배수\n",
      "4\n",
      "5의 공배수\n",
      "3의 공배수\n",
      "7\n",
      "8\n",
      "3의 공배수\n",
      "5의 공배수\n"
     ]
    }
   ],
   "source": [
    "a = int(input(\"정수 입력 : \"))\n",
    "\n",
    "list1 = list(range(1,(a+1)))\n",
    "\n",
    "for i in list1 :\n",
    "    num = int(i)\n",
    "    if (num%3 ==0)and (num%5 ==0) :\n",
    "        print(\"3과 5의 공배수\")\n",
    "    elif num%3 ==0 :\n",
    "        print(\"3의 공배수\")\n",
    "    elif num%5 ==0 :\n",
    "        print('5의 공배수')\n",
    "    else :\n",
    "        print(num)"
   ]
  },
  {
   "cell_type": "markdown",
   "metadata": {},
   "source": [
    "# While문"
   ]
  },
  {
   "cell_type": "code",
   "execution_count": 140,
   "metadata": {},
   "outputs": [
    {
     "name": "stdout",
     "output_type": "stream",
     "text": [
      "i 0\n",
      "i 1\n",
      "i 2\n",
      "i 3\n",
      "i 4\n"
     ]
    }
   ],
   "source": [
    "i = 0\n",
    "while i < 5 :\n",
    "    print(\"i\", i)\n",
    "    i+=1"
   ]
  },
  {
   "cell_type": "code",
   "execution_count": 141,
   "metadata": {},
   "outputs": [
    {
     "name": "stdout",
     "output_type": "stream",
     "text": [
      "s가 입력되면 멈춥니다.2\n",
      "프로세스 동작중\n",
      "s가 입력되면 멈춥니다.5\n",
      "프로세스 동작중\n",
      "s가 입력되면 멈춥니다.6\n",
      "프로세스 동작중\n",
      "s가 입력되면 멈춥니다.8\n",
      "프로세스 동작중\n",
      "s가 입력되면 멈춥니다.32\n",
      "프로세스 동작중\n",
      "s가 입력되면 멈춥니다.ㄴ\n",
      "프로세스 동작중\n",
      "s가 입력되면 멈춥니다.s\n"
     ]
    }
   ],
   "source": [
    "i = input(\"s가 입력되면 멈춥니다.\")\n",
    "while i.upper() != 'S' :\n",
    "    print(\"프로세스 동작중\")\n",
    "    i = input(\"s가 입력되면 멈춥니다.\")"
   ]
  },
  {
   "cell_type": "code",
   "execution_count": 145,
   "metadata": {
    "scrolled": true
   },
   "outputs": [
    {
     "name": "stdout",
     "output_type": "stream",
     "text": [
      "값을 입력해주세요 : 1\n",
      "값을 입력해주세요 : 3\n",
      "값을 입력해주세요 : 5\n",
      "값을 입력해주세요 : 7\n",
      "값을 입력해주세요 : s\n",
      "합계는? 16\n"
     ]
    }
   ],
   "source": [
    "sum_list = []\n",
    "a = input(\"값을 입력해주세요 : \")\n",
    "while a != 'S' and a != 's':\n",
    "    sum_list.append(a)\n",
    "    a = input(\"값을 입력해주세요 : \")\n",
    "\n",
    "sum_list = map(int, sum_list)\n",
    "print(\"합계는? {}\".format(sum(sum_list)))"
   ]
  },
  {
   "cell_type": "markdown",
   "metadata": {},
   "source": [
    "# 연습문제 6.(가위바위보 게임만들기)"
   ]
  },
  {
   "cell_type": "markdown",
   "metadata": {},
   "source": [
    "가위(1), 바위(2), 보(3) 을 입력해주세요! : 3\n",
    "유저 : 보, 컴퓨터 : 보\n",
    "가위(1), 바위(2), 보(3) 을 입력해주세요! : 2\n",
    "유저 : 바위, 컴퓨터 : 보\n",
    "가위(1), 바위(2), 보(3) 을 입력해주세요! : 1\n",
    "유저 : 가위, 컴퓨터 : 보\n",
    "가위(1), 바위(2), 보(3) 을 입력해주세요! : 4\n",
    "\n",
    "게임종료 (전체:3 ,승리:1)\n",
    "\n",
    "1~3 을 입력하면 게임진행 이외의 숫자를 입력하면 게임종료\n",
    "심화 : 비긴숫자도 출력하세요 (전체:3, 승리:1, 비김:1)\n"
   ]
  },
  {
   "cell_type": "code",
   "execution_count": 157,
   "metadata": {
    "scrolled": true
   },
   "outputs": [
    {
     "name": "stdout",
     "output_type": "stream",
     "text": [
      "가위(1), 바위(2), 보(3) 을 입력해주세요! : 1\n",
      "유저: 가위, 컴퓨터: 보\n",
      "가위(1), 바위(2), 보(3) 을 입력해주세요! : 2\n",
      "유저: 바위, 컴퓨터: 가위\n",
      "가위(1), 바위(2), 보(3) 을 입력해주세요! : 3\n",
      "유저: 보, 컴퓨터: 바위\n",
      "가위(1), 바위(2), 보(3) 을 입력해주세요! : 4\n",
      "게임종료(전체 : 3, 승리 : 3, 비김 : 0)\n"
     ]
    }
   ],
   "source": [
    "import random\n",
    "\n",
    "com = random.randint(1,3)\n",
    "\n",
    "user = int(input(\"가위(1), 바위(2), 보(3) 을 입력해주세요! : \"))\n",
    "\n",
    "game_round = 0\n",
    "win = 0\n",
    "same = 0\n",
    "\n",
    "while user in list(range(1,4)) :\n",
    "    if user == 1 : # 가위\n",
    "        if com == 1 :\n",
    "            print('유저: 가위, 컴퓨터: 가위') ## 비김\n",
    "            same+=1\n",
    "        elif com == 2 :\n",
    "            print('유저: 가위, 컴퓨터: 바위') ## 짐\n",
    "        elif com == 3 :\n",
    "            print('유저: 가위, 컴퓨터: 보') ## 이김\n",
    "            win+=1\n",
    "    elif  user == 2 : # 바위\n",
    "        if com == 1 :\n",
    "            print('유저: 바위, 컴퓨터: 가위') ## 이김\n",
    "            win+=1\n",
    "        elif com == 2 :\n",
    "            print('유저: 바위, 컴퓨터: 바위') ##비김\n",
    "            same+=1\n",
    "        elif com == 3 :\n",
    "            print('유저: 바위, 컴퓨터: 보') ## 짐\n",
    "    elif  user == 3 : # 보\n",
    "        if com == 1 :\n",
    "            print('유저: 보, 컴퓨터: 가위') ## 짐\n",
    "        elif com == 2 :\n",
    "            print('유저: 보, 컴퓨터: 바위') ## 이김\n",
    "            win+=1\n",
    "        elif com == 3 :\n",
    "            print('유저: 보, 컴퓨터: 보') ## 비김\n",
    "            same+=1\n",
    "    user = int(input(\"가위(1), 바위(2), 보(3) 을 입력해주세요! : \"))\n",
    "    com = random.randint(1,3)\n",
    "    game_round+=1\n",
    "\n",
    "print(\"게임종료(전체 : {}, 승리 : {}, 비김 : {})\".format(game_round, win, same))\n",
    "        \n",
    "## if문 안에 처음 비긴 경우를 쓰고 이긴 경우를 and로 쓰고.. 간단하게 짜는 방법있다"
   ]
  },
  {
   "cell_type": "markdown",
   "metadata": {},
   "source": [
    "# Break, Continue"
   ]
  },
  {
   "cell_type": "code",
   "execution_count": 176,
   "metadata": {},
   "outputs": [
    {
     "name": "stdout",
     "output_type": "stream",
     "text": [
      "0\n",
      "1\n",
      "2\n"
     ]
    }
   ],
   "source": [
    "for i in range(5) :\n",
    "    if i == 3 :\n",
    "        break\n",
    "    print(i)"
   ]
  },
  {
   "cell_type": "code",
   "execution_count": 177,
   "metadata": {},
   "outputs": [
    {
     "name": "stdout",
     "output_type": "stream",
     "text": [
      "0\n",
      "1\n",
      "2\n",
      "4\n"
     ]
    }
   ],
   "source": [
    "for i in range(5) :\n",
    "    if i == 3 :\n",
    "        continue\n",
    "    print(i)"
   ]
  },
  {
   "cell_type": "code",
   "execution_count": 180,
   "metadata": {
    "scrolled": true
   },
   "outputs": [
    {
     "name": "stdout",
     "output_type": "stream",
     "text": [
      "Hello\n",
      "s입력시 멈춥니다.1\n",
      "Hello\n",
      "s입력시 멈춥니다.2\n",
      "Hello\n",
      "s입력시 멈춥니다.g\n",
      "Hello\n",
      "s입력시 멈춥니다.h\n",
      "Hello\n",
      "s입력시 멈춥니다.s\n"
     ]
    }
   ],
   "source": [
    "## Loop\n",
    "while True :\n",
    "    print(\"Hello\")\n",
    "    num = input(\"s입력시 멈춥니다.\")\n",
    "    if num.lower() == 's' :\n",
    "        break"
   ]
  },
  {
   "cell_type": "markdown",
   "metadata": {},
   "source": [
    "# 연습문제 11."
   ]
  },
  {
   "cell_type": "markdown",
   "metadata": {},
   "source": [
    "(1) while 문과 break 문을 사용하여 사용자가 입력한 숫자만큼 반복하여 ‘hi’ 출력하기"
   ]
  },
  {
   "cell_type": "code",
   "execution_count": 199,
   "metadata": {},
   "outputs": [
    {
     "name": "stdout",
     "output_type": "stream",
     "text": [
      "정수 입력 : 2\n",
      "hi\n",
      "hi\n"
     ]
    }
   ],
   "source": [
    "num = int(input(\"정수 입력 : \"))\n",
    "\n",
    "count = 0\n",
    "while True :\n",
    "    print(\"hi\")\n",
    "    count+=1\n",
    "    if count == num :\n",
    "        break"
   ]
  },
  {
   "cell_type": "markdown",
   "metadata": {},
   "source": [
    "(2) for 문과 continue 문을 사용하여 사용자가 입력한 숫자까지의 짝수를 출력하기"
   ]
  },
  {
   "cell_type": "code",
   "execution_count": 203,
   "metadata": {
    "scrolled": true
   },
   "outputs": [
    {
     "name": "stdout",
     "output_type": "stream",
     "text": [
      "정수 입력 : 11\n",
      "0\n",
      "2\n",
      "4\n",
      "6\n",
      "8\n",
      "10\n"
     ]
    }
   ],
   "source": [
    "num = int(input(\"정수 입력 : \"))\n",
    "\n",
    "for i in range(0, (num+1)) :\n",
    "    if i%2==0 :\n",
    "        print(i)\n",
    "    else :\n",
    "        continue"
   ]
  },
  {
   "cell_type": "markdown",
   "metadata": {},
   "source": [
    "# 연습문제 7."
   ]
  },
  {
   "cell_type": "markdown",
   "metadata": {},
   "source": [
    "randint함수를 사용하여 정수(1~1000)로 이루어진 길이가 100개인 리스트 a를 만들고 \n",
    "가장 큰 수를 구하는 코드를 작성하시오."
   ]
  },
  {
   "cell_type": "code",
   "execution_count": 251,
   "metadata": {},
   "outputs": [
    {
     "name": "stdout",
     "output_type": "stream",
     "text": [
      "995\n",
      "995\n"
     ]
    }
   ],
   "source": [
    "int_list = []\n",
    "for i in range(100) :\n",
    "    num = random.randint(1,1000)\n",
    "    int_list.append(num)\n",
    "\n",
    "print(max(int_list))\n",
    "\n",
    "j = 0    \n",
    "for i in int_list :\n",
    "    if i >= j :\n",
    "        temp = i\n",
    "        j = i\n",
    "print(temp)"
   ]
  },
  {
   "cell_type": "code",
   "execution_count": 255,
   "metadata": {},
   "outputs": [
    {
     "name": "stdout",
     "output_type": "stream",
     "text": [
      "983\n",
      "983\n"
     ]
    }
   ],
   "source": [
    "int_list = []\n",
    "for i in range(100) :\n",
    "    num = random.randint(1,1000)\n",
    "    int_list.append(num)\n",
    "    j = 0    \n",
    "    for i in int_list :\n",
    "        if i >= j :\n",
    "            temp = i\n",
    "            j = i\n",
    "print(temp)\n",
    "\n",
    "print(max(int_list))"
   ]
  },
  {
   "cell_type": "code",
   "execution_count": 238,
   "metadata": {},
   "outputs": [
    {
     "name": "stdout",
     "output_type": "stream",
     "text": [
      "994\n"
     ]
    }
   ],
   "source": [
    "j = 0\n",
    "for i in range(100) :\n",
    "    i = random.randint(1,1000)\n",
    "    if i > j :\n",
    "        temp = i\n",
    "        j = i\n",
    "print(temp)"
   ]
  },
  {
   "cell_type": "code",
   "execution_count": 273,
   "metadata": {},
   "outputs": [
    {
     "name": "stdout",
     "output_type": "stream",
     "text": [
      "992\n",
      "992\n"
     ]
    }
   ],
   "source": [
    "int_list = []\n",
    "max_num = 0  \n",
    "for i in range(100) :\n",
    "    num = random.randint(1,1000)\n",
    "    int_list.append(num)\n",
    "    \n",
    "    if num >= max_num :\n",
    "        max_num = num\n",
    "        \n",
    "print(max_num)\n",
    "print(max(int_list))"
   ]
  },
  {
   "cell_type": "markdown",
   "metadata": {},
   "source": [
    "# 연습문제 8."
   ]
  },
  {
   "cell_type": "markdown",
   "metadata": {},
   "source": [
    "randint함수를 사용하여 정수(1~1000)로 이루어진 길이가 100개인 리스트 a를 만들고 \n",
    "리스트의 모든 요소의 합계를 구하는 코드를 작성하시오.\n",
    "\n",
    "예) a=[32, 45, 2, 5, 76] 일때, 출력결과는 160이 나와야 함."
   ]
  },
  {
   "cell_type": "code",
   "execution_count": 225,
   "metadata": {},
   "outputs": [
    {
     "name": "stdout",
     "output_type": "stream",
     "text": [
      "52085\n"
     ]
    }
   ],
   "source": [
    "count = 0\n",
    "for i in range(100) :\n",
    "    num = random.randint(1,1000)\n",
    "    count += num\n",
    "\n",
    "print(count)"
   ]
  },
  {
   "cell_type": "markdown",
   "metadata": {},
   "source": [
    "# 리스트 컴프리핸션"
   ]
  },
  {
   "cell_type": "code",
   "execution_count": 276,
   "metadata": {},
   "outputs": [],
   "source": [
    "list1 = list(range(1,5))"
   ]
  },
  {
   "cell_type": "code",
   "execution_count": 277,
   "metadata": {},
   "outputs": [
    {
     "data": {
      "text/plain": [
       "[10, 20, 30, 40]"
      ]
     },
     "execution_count": 277,
     "metadata": {},
     "output_type": "execute_result"
    }
   ],
   "source": [
    "a = [i*10 for i in list1]\n",
    "a"
   ]
  },
  {
   "cell_type": "code",
   "execution_count": 280,
   "metadata": {},
   "outputs": [
    {
     "name": "stdout",
     "output_type": "stream",
     "text": [
      "[3, 6, 9, 12, 15, 18, 21, 24, 27, 30, 33, 36, 39, 42, 45, 48, 51, 54, 57, 60, 63, 66, 69, 72, 75, 78, 81, 84, 87, 90, 93, 96, 99]\n"
     ]
    }
   ],
   "source": [
    "# 1부터 100까지의 숫자 중에서 3의 배수만 모아서 새로운 리스트 생성\n",
    "a = [i for i in range(1, 101) if i%3==0]\n",
    "print(a)"
   ]
  },
  {
   "cell_type": "code",
   "execution_count": 286,
   "metadata": {
    "scrolled": true
   },
   "outputs": [
    {
     "name": "stdout",
     "output_type": "stream",
     "text": [
      "[1, 2, 3, 4, 5, 6, 7, 8, 9, 10, 2, 4, 6, 8, 10, 12, 14, 16, 18, 20, 3, 6, 9, 12, 15, 18, 21, 24, 27, 30, 4, 8, 12, 16, 20, 24, 28, 32, 36, 40, 5, 10, 15, 20, 25, 30, 35, 40, 45, 50, 6, 12, 18, 24, 30, 36, 42, 48, 54, 60, 7, 14, 21, 28, 35, 42, 49, 56, 63, 70, 8, 16, 24, 32, 40, 48, 56, 64, 72, 80, 9, 18, 27, 36, 45, 54, 63, 72, 81, 90, 10, 20, 30, 40, 50, 60, 70, 80, 90, 100]\n"
     ]
    }
   ],
   "source": [
    "new_list = [i*j for i in range(1,11) for j in range(1,11)]\n",
    "print(new_list)"
   ]
  },
  {
   "cell_type": "code",
   "execution_count": 288,
   "metadata": {},
   "outputs": [
    {
     "data": {
      "text/plain": [
       "{'city': 'Seoul', 'name': '이다영', 'height': 155}"
      ]
     },
     "execution_count": 288,
     "metadata": {},
     "output_type": "execute_result"
    }
   ],
   "source": [
    "keys = ['city', 'name', 'height']\n",
    "values = ['Seoul', '이다영', 155]\n",
    "\n",
    "new_dict = {keys[i]: values[i] for i in range(len(keys))}\n",
    "new_dict"
   ]
  },
  {
   "cell_type": "markdown",
   "metadata": {},
   "source": [
    "## zip"
   ]
  },
  {
   "cell_type": "code",
   "execution_count": 292,
   "metadata": {},
   "outputs": [
    {
     "name": "stdout",
     "output_type": "stream",
     "text": [
      "city Seoul\n",
      "name 이다영\n",
      "height 155\n"
     ]
    }
   ],
   "source": [
    "for i in range(len(keys)) :\n",
    "    k = keys[i]\n",
    "    v = values[i]\n",
    "    print(k,v)"
   ]
  },
  {
   "cell_type": "code",
   "execution_count": 294,
   "metadata": {
    "scrolled": true
   },
   "outputs": [
    {
     "data": {
      "text/plain": [
       "[('city', 'Seoul'), ('name', '이다영'), ('height', 155)]"
      ]
     },
     "execution_count": 294,
     "metadata": {},
     "output_type": "execute_result"
    }
   ],
   "source": [
    "list(zip(keys, values))"
   ]
  },
  {
   "cell_type": "code",
   "execution_count": 295,
   "metadata": {
    "scrolled": true
   },
   "outputs": [
    {
     "data": {
      "text/plain": [
       "{'city': 'Seoul', 'name': '이다영', 'height': 155}"
      ]
     },
     "execution_count": 295,
     "metadata": {},
     "output_type": "execute_result"
    }
   ],
   "source": [
    "dict(zip(keys, values))"
   ]
  },
  {
   "cell_type": "code",
   "execution_count": 297,
   "metadata": {
    "scrolled": true
   },
   "outputs": [
    {
     "name": "stdout",
     "output_type": "stream",
     "text": [
      "city Seoul\n",
      "name 이다영\n",
      "height 155\n"
     ]
    }
   ],
   "source": [
    "for k, v in zip(keys, values) :\n",
    "    print(k,v)"
   ]
  },
  {
   "cell_type": "code",
   "execution_count": 298,
   "metadata": {},
   "outputs": [
    {
     "data": {
      "text/plain": [
       "[('city', 'Seoul', 'a'), ('name', '이다영', 'b'), ('height', 155, 'c')]"
      ]
     },
     "execution_count": 298,
     "metadata": {},
     "output_type": "execute_result"
    }
   ],
   "source": [
    "keys = ['city', 'name', 'height']\n",
    "values = ['Seoul', '이다영', 155]\n",
    "sample = ['a', 'b','c']\n",
    "list(zip(keys, values, sample))"
   ]
  },
  {
   "cell_type": "markdown",
   "metadata": {},
   "source": [
    "# 연습문제 9."
   ]
  },
  {
   "cell_type": "markdown",
   "metadata": {},
   "source": [
    "(1) word = [“school”, “game”, “piano”, “science”, “hotel”, “mountn”] 중 글자수가 6글자 이상인 문자를 모아 새로운 리스트를 생성하세요\n",
    "(리스트 컴프리핸션을 사용해주세요)"
   ]
  },
  {
   "cell_type": "code",
   "execution_count": 218,
   "metadata": {},
   "outputs": [
    {
     "name": "stdout",
     "output_type": "stream",
     "text": [
      "['school', 'science', 'mountain']\n"
     ]
    }
   ],
   "source": [
    "word = ['school','game','piano','science', 'hotel', 'mountain']\n",
    "a = [i for i in word if len(str(i))>=6]\n",
    "print(a)"
   ]
  },
  {
   "cell_type": "markdown",
   "metadata": {},
   "source": [
    "(2) word = [“school”, “game”, “piano”, “science”, “hotel”, “mountian”] 리스트의 글자수가 들어가있는 새로운 리스트를 생성하세요\n",
    "(리스트 컴프리핸션을 사용해주세요)"
   ]
  },
  {
   "cell_type": "code",
   "execution_count": 221,
   "metadata": {},
   "outputs": [
    {
     "name": "stdout",
     "output_type": "stream",
     "text": [
      "[6, 4, 5, 7, 5, 8]\n"
     ]
    }
   ],
   "source": [
    "word = ['school','game','piano','science', 'hotel', 'mountain']\n",
    "a = [len(i) for i in word ]\n",
    "print(a)"
   ]
  },
  {
   "cell_type": "markdown",
   "metadata": {},
   "source": [
    "# 연습문제 10."
   ]
  },
  {
   "cell_type": "markdown",
   "metadata": {},
   "source": [
    "(1) 아래 두 리스트를 각 요소들을 곱해 새로운 리스트 C 를 만드세요\n",
    "a = [[10, 20], [30, 40], [50, 60]]\n",
    "b = [[2, 3], [4, 5], [6, 7]]\n",
    "\n",
    "심화 2X3 리스트 a, b를 사용자로부터 입력받아 두 값을 곱해 새로운 리스트 C 를 만드세요\n"
   ]
  },
  {
   "cell_type": "code",
   "execution_count": 356,
   "metadata": {},
   "outputs": [
    {
     "name": "stdout",
     "output_type": "stream",
     "text": [
      "[20, 60, 120, 200, 300, 420]\n"
     ]
    }
   ],
   "source": [
    "a = [[10, 20], [30, 40], [50, 60]] \n",
    "b = [[2, 3], [4, 5], [6, 7]]\n",
    "\n",
    "a_list = []\n",
    "for i, ival in enumerate(a) :\n",
    "    for j , jval in enumerate(ival) :\n",
    "        a_list.append(jval)\n",
    "        \n",
    "b_list = []\n",
    "for i, ival in enumerate(b) :\n",
    "    for j , jval in enumerate(ival) :\n",
    "        b_list.append(jval)\n",
    "\n",
    "def list_sum(a_list, b_list) :\n",
    "    c = []\n",
    "    for a_ind,i in enumerate(a_list) :\n",
    "        for b_ind,j in enumerate(b_list) :\n",
    "            if a_ind == b_ind :\n",
    "                c.append(i*j)\n",
    "    return c\n",
    "\n",
    "c = list_sum(a_list, b_list)\n",
    "print(c)\n",
    "\n"
   ]
  },
  {
   "cell_type": "code",
   "execution_count": 359,
   "metadata": {},
   "outputs": [
    {
     "data": {
      "text/plain": [
       "[[20, 60], [120, 200], [300, 420]]"
      ]
     },
     "execution_count": 359,
     "metadata": {},
     "output_type": "execute_result"
    }
   ],
   "source": [
    "a = [[10, 20], [30, 40], [50, 60]] \n",
    "b = [[2, 3], [4, 5], [6, 7]]\n",
    "\n",
    "new_list=[]\n",
    "for i in range(len(a)) :\n",
    "    in_list = []\n",
    "    for j in range(len(a[i])) :\n",
    "        in_list.append(a[i][j] * b[i][j])\n",
    "        \n",
    "    new_list.append(in_list)\n",
    "new_list    "
   ]
  },
  {
   "cell_type": "code",
   "execution_count": 363,
   "metadata": {},
   "outputs": [
    {
     "name": "stdout",
     "output_type": "stream",
     "text": [
      "[10, 20] [2, 3]\n"
     ]
    }
   ],
   "source": [
    "for l1, l2 in zip(a,b) : ## unpack\n",
    "    print(l1, l2)\n",
    "    break"
   ]
  },
  {
   "cell_type": "code",
   "execution_count": 366,
   "metadata": {},
   "outputs": [
    {
     "name": "stdout",
     "output_type": "stream",
     "text": [
      "10 20\n",
      "2 3\n"
     ]
    }
   ],
   "source": [
    "for [a1, a2], [b1,b2] in zip(a,b) : ## unpack\n",
    "    print(a1, a2)\n",
    "    print(b1, b2)\n",
    "    break"
   ]
  },
  {
   "cell_type": "code",
   "execution_count": 370,
   "metadata": {},
   "outputs": [
    {
     "data": {
      "text/plain": [
       "[[20, 60], [120, 200], [300, 420]]"
      ]
     },
     "execution_count": 370,
     "metadata": {},
     "output_type": "execute_result"
    }
   ],
   "source": [
    "new_list = []\n",
    "for [a1, a2], [b1,b2] in zip(a,b) :\n",
    "    new_list.append([a1*b1, a2*b2])\n",
    "new_list"
   ]
  },
  {
   "cell_type": "markdown",
   "metadata": {},
   "source": [
    "# 연습문제 11."
   ]
  },
  {
   "cell_type": "markdown",
   "metadata": {},
   "source": [
    "(1) 아래의 학습코드를 가지고 a 리스트가 [[1,2],[3,4],[5,6]] 와 같이 만들어지도록 수정하세요"
   ]
  },
  {
   "cell_type": "code",
   "execution_count": 5,
   "metadata": {},
   "outputs": [
    {
     "name": "stdout",
     "output_type": "stream",
     "text": [
      "[[1, 2], [3, 4], [5, 6]]\n"
     ]
    }
   ],
   "source": [
    "a = []\n",
    "num = 1\n",
    "for i in range(3):\n",
    "    line = []\n",
    "    for j in range(2):\n",
    "        line.append(num)\n",
    "        num+=1\n",
    "    a.append(line)\n",
    "print(a)"
   ]
  },
  {
   "cell_type": "code",
   "execution_count": 318,
   "metadata": {},
   "outputs": [],
   "source": [
    "## 개미수열"
   ]
  }
 ],
 "metadata": {
  "kernelspec": {
   "display_name": "Python 3",
   "language": "python",
   "name": "python3"
  },
  "language_info": {
   "codemirror_mode": {
    "name": "ipython",
    "version": 3
   },
   "file_extension": ".py",
   "mimetype": "text/x-python",
   "name": "python",
   "nbconvert_exporter": "python",
   "pygments_lexer": "ipython3",
   "version": "3.8.3"
  }
 },
 "nbformat": 4,
 "nbformat_minor": 4
}
